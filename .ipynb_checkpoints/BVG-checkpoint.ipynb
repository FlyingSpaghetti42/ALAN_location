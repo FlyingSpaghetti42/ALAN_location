{
 "cells": [
  {
   "cell_type": "code",
   "execution_count": 16,
   "id": "01cfe136",
   "metadata": {},
   "outputs": [],
   "source": [
    "import pandas as pd\n",
    "import numpy as np \n",
    "import requests\n",
    "from data.data_engineering import get_location, column_selection, distance_calculation"
   ]
  },
  {
   "cell_type": "code",
   "execution_count": 44,
   "id": "fee90122",
   "metadata": {},
   "outputs": [],
   "source": [
    "#to get details from a certain stop: \n",
    "url = 'https://v5.bvg.transport.rest/locations?'\n",
    "params = {'poi' : 'false', \n",
    "          'adresses' : 'false',\n",
    "          'query' : 'mehringdamm'\n",
    "         }"
   ]
  },
  {
   "cell_type": "code",
   "execution_count": 45,
   "id": "d2393dc6",
   "metadata": {},
   "outputs": [],
   "source": [
    "data = requests.get(url,params)"
   ]
  },
  {
   "cell_type": "code",
   "execution_count": 46,
   "id": "968a1151",
   "metadata": {
    "collapsed": true
   },
   "outputs": [
    {
     "data": {
      "text/plain": [
       "[{'type': 'stop',\n",
       "  'id': '900000017101',\n",
       "  'name': 'U Mehringdamm',\n",
       "  'location': {'type': 'location',\n",
       "   'id': '900017101',\n",
       "   'latitude': 52.49357,\n",
       "   'longitude': 13.388138},\n",
       "  'products': {'suburban': False,\n",
       "   'subway': True,\n",
       "   'tram': False,\n",
       "   'bus': True,\n",
       "   'ferry': False,\n",
       "   'express': False,\n",
       "   'regional': False},\n",
       "  'stationDHID': 'de:11000:900017101'},\n",
       " {'type': 'stop',\n",
       "  'id': '900000017100',\n",
       "  'name': 'Obentrautstr./U Mehringdamm',\n",
       "  'location': {'type': 'location',\n",
       "   'id': '900017100',\n",
       "   'latitude': 52.49535,\n",
       "   'longitude': 13.389612},\n",
       "  'products': {'suburban': False,\n",
       "   'subway': False,\n",
       "   'tram': False,\n",
       "   'bus': True,\n",
       "   'ferry': False,\n",
       "   'express': False,\n",
       "   'regional': False},\n",
       "  'stationDHID': 'de:11000:900017100'},\n",
       " {'type': 'location',\n",
       "  'id': None,\n",
       "  'latitude': 52.490334,\n",
       "  'longitude': 13.386421,\n",
       "  'address': '10961 Berlin-Kreuzberg, Mehringdamm'},\n",
       " {'type': 'location',\n",
       "  'id': None,\n",
       "  'latitude': 52.486073,\n",
       "  'longitude': 13.386017,\n",
       "  'address': '10965 Berlin-Kreuzberg, Mehringdamm'},\n",
       " {'type': 'stop',\n",
       "  'id': '900000012106',\n",
       "  'name': 'Mehringbrücke',\n",
       "  'location': {'type': 'location',\n",
       "   'id': '900012106',\n",
       "   'latitude': 52.497974,\n",
       "   'longitude': 13.389262},\n",
       "  'products': {'suburban': False,\n",
       "   'subway': False,\n",
       "   'tram': False,\n",
       "   'bus': True,\n",
       "   'ferry': False,\n",
       "   'express': False,\n",
       "   'regional': False},\n",
       "  'stationDHID': 'de:11000:900012106'}]"
      ]
     },
     "execution_count": 46,
     "metadata": {},
     "output_type": "execute_result"
    }
   ],
   "source": [
    "data.json()"
   ]
  },
  {
   "cell_type": "code",
   "execution_count": 82,
   "id": "46555bf4",
   "metadata": {},
   "outputs": [],
   "source": [
    "location = get_location('Obentrautstraße 71')"
   ]
  },
  {
   "cell_type": "code",
   "execution_count": 83,
   "id": "2783fb49",
   "metadata": {},
   "outputs": [],
   "source": [
    "latitude = round(location[0],3)\n",
    "longitude = round(location[1],3)"
   ]
  },
  {
   "cell_type": "code",
   "execution_count": 130,
   "id": "51345804",
   "metadata": {},
   "outputs": [],
   "source": [
    "url_nearby = 'https://v5.bvg.transport.rest/stops/nearby?'\n",
    "params_ = {'latitude' : latitude,\n",
    "          'longitude' : longitude\n",
    "         }"
   ]
  },
  {
   "cell_type": "code",
   "execution_count": 131,
   "id": "3af388a0",
   "metadata": {},
   "outputs": [],
   "source": [
    "data_1 = requests.get(url_nearby,params_)"
   ]
  },
  {
   "cell_type": "code",
   "execution_count": 133,
   "id": "04bdccc8",
   "metadata": {},
   "outputs": [],
   "source": [
    "query = data_1.json()"
   ]
  },
  {
   "cell_type": "code",
   "execution_count": 263,
   "id": "b7509228",
   "metadata": {},
   "outputs": [
    {
     "data": {
      "text/plain": [
       "[{'type': 'stop',\n",
       "  'id': '900000017104',\n",
       "  'name': 'U Möckernbrücke',\n",
       "  'location': {'type': 'location',\n",
       "   'id': '900017104',\n",
       "   'latitude': 52.498945,\n",
       "   'longitude': 13.383257},\n",
       "  'products': {'suburban': False,\n",
       "   'subway': True,\n",
       "   'tram': False,\n",
       "   'bus': True,\n",
       "   'ferry': False,\n",
       "   'express': False,\n",
       "   'regional': False},\n",
       "  'stationDHID': 'de:11000:900017104',\n",
       "  'distance': 264},\n",
       " {'type': 'stop',\n",
       "  'id': '900000017105',\n",
       "  'name': 'Hornstr',\n",
       "  'location': {'type': 'location',\n",
       "   'id': '900017105',\n",
       "   'latitude': 52.493633,\n",
       "   'longitude': 13.383823},\n",
       "  'products': {'suburban': False,\n",
       "   'subway': False,\n",
       "   'tram': False,\n",
       "   'bus': True,\n",
       "   'ferry': False,\n",
       "   'express': False,\n",
       "   'regional': False},\n",
       "  'stationDHID': 'de:11000:900017105',\n",
       "  'distance': 420},\n",
       " {'type': 'stop',\n",
       "  'id': '900000017103',\n",
       "  'name': 'U Gleisdreieck',\n",
       "  'location': {'type': 'location',\n",
       "   'id': '900017103',\n",
       "   'latitude': 52.499583,\n",
       "   'longitude': 13.374295},\n",
       "  'products': {'suburban': False,\n",
       "   'subway': True,\n",
       "   'tram': False,\n",
       "   'bus': False,\n",
       "   'ferry': False,\n",
       "   'express': False,\n",
       "   'regional': False},\n",
       "  'stationDHID': 'de:11000:900017103',\n",
       "  'distance': 537},\n",
       " {'type': 'stop',\n",
       "  'id': '900000012106',\n",
       "  'name': 'Mehringbrücke',\n",
       "  'location': {'type': 'location',\n",
       "   'id': '900012106',\n",
       "   'latitude': 52.497974,\n",
       "   'longitude': 13.389262},\n",
       "  'products': {'suburban': False,\n",
       "   'subway': False,\n",
       "   'tram': False,\n",
       "   'bus': True,\n",
       "   'ferry': False,\n",
       "   'express': False,\n",
       "   'regional': False},\n",
       "  'stationDHID': 'de:11000:900012106',\n",
       "  'distance': 569},\n",
       " {'type': 'stop',\n",
       "  'id': '900000012151',\n",
       "  'name': 'Willy-Brandt-Haus',\n",
       "  'location': {'type': 'location',\n",
       "   'id': '900012151',\n",
       "   'latitude': 52.500411,\n",
       "   'longitude': 13.387437},\n",
       "  'products': {'suburban': False,\n",
       "   'subway': False,\n",
       "   'tram': False,\n",
       "   'bus': True,\n",
       "   'ferry': False,\n",
       "   'express': False,\n",
       "   'regional': False},\n",
       "  'stationDHID': 'de:11000:900012151',\n",
       "  'distance': 577},\n",
       " {'type': 'stop',\n",
       "  'id': '900000017100',\n",
       "  'name': 'Obentrautstr./U Mehringdamm',\n",
       "  'location': {'type': 'location',\n",
       "   'id': '900017100',\n",
       "   'latitude': 52.49535,\n",
       "   'longitude': 13.389612},\n",
       "  'products': {'suburban': False,\n",
       "   'subway': False,\n",
       "   'tram': False,\n",
       "   'bus': True,\n",
       "   'ferry': False,\n",
       "   'express': False,\n",
       "   'regional': False},\n",
       "  'stationDHID': 'de:11000:900017100',\n",
       "  'distance': 611},\n",
       " {'type': 'stop',\n",
       "  'id': '900000017101',\n",
       "  'name': 'U Mehringdamm',\n",
       "  'location': {'type': 'location',\n",
       "   'id': '900017101',\n",
       "   'latitude': 52.49357,\n",
       "   'longitude': 13.388138},\n",
       "  'products': {'suburban': False,\n",
       "   'subway': True,\n",
       "   'tram': False,\n",
       "   'bus': True,\n",
       "   'ferry': False,\n",
       "   'express': False,\n",
       "   'regional': False},\n",
       "  'stationDHID': 'de:11000:900017101',\n",
       "  'distance': 616},\n",
       " {'type': 'stop',\n",
       "  'id': '900000012103',\n",
       "  'name': 'U Hallesches Tor',\n",
       "  'location': {'type': 'location',\n",
       "   'id': '900012103',\n",
       "   'latitude': 52.497777,\n",
       "   'longitude': 13.391761},\n",
       "  'products': {'suburban': False,\n",
       "   'subway': True,\n",
       "   'tram': False,\n",
       "   'bus': True,\n",
       "   'ferry': False,\n",
       "   'express': False,\n",
       "   'regional': False},\n",
       "  'stationDHID': 'de:11000:900012103',\n",
       "  'distance': 733}]"
      ]
     },
     "execution_count": 263,
     "metadata": {},
     "output_type": "execute_result"
    }
   ],
   "source": [
    "query"
   ]
  },
  {
   "cell_type": "code",
   "execution_count": 264,
   "id": "4fb3e2f4",
   "metadata": {},
   "outputs": [],
   "source": [
    "df_name = []\n",
    "df_lat = []\n",
    "df_lon = []\n",
    "df_dist = []\n",
    "types = []"
   ]
  },
  {
   "cell_type": "code",
   "execution_count": 265,
   "id": "e2e7509a",
   "metadata": {},
   "outputs": [],
   "source": [
    "keys = list(query[i]['products'].keys())"
   ]
  },
  {
   "cell_type": "code",
   "execution_count": null,
   "id": "bf8a225d",
   "metadata": {},
   "outputs": [],
   "source": []
  },
  {
   "cell_type": "code",
   "execution_count": 266,
   "id": "9c136c90",
   "metadata": {},
   "outputs": [],
   "source": [
    "for i in range(len(query)): \n",
    "    df_name.append(query[i]['name'])\n",
    "    df_lat.append(query[i]['location']['latitude'])\n",
    "    df_lon.append(query[i]['location']['longitude'])\n",
    "    df_dist.append(query[i]['distance'])\n"
   ]
  },
  {
   "cell_type": "code",
   "execution_count": 267,
   "id": "83a364ab",
   "metadata": {
    "collapsed": true
   },
   "outputs": [
    {
     "name": "stdout",
     "output_type": "stream",
     "text": [
      "U Möckernbrücke\n",
      "['subway']\n",
      "U Möckernbrücke\n",
      "['subway', 'bus']\n",
      "Hornstr\n",
      "['subway', 'bus', 'bus']\n",
      "U Gleisdreieck\n",
      "['subway', 'bus', 'bus', 'subway']\n",
      "Mehringbrücke\n",
      "['subway', 'bus', 'bus', 'subway', 'bus']\n",
      "Willy-Brandt-Haus\n",
      "['subway', 'bus', 'bus', 'subway', 'bus', 'bus']\n",
      "Obentrautstr./U Mehringdamm\n",
      "['subway', 'bus', 'bus', 'subway', 'bus', 'bus', 'bus']\n",
      "U Mehringdamm\n",
      "['subway', 'bus', 'bus', 'subway', 'bus', 'bus', 'bus', 'subway']\n",
      "U Mehringdamm\n",
      "['subway', 'bus', 'bus', 'subway', 'bus', 'bus', 'bus', 'subway', 'bus']\n",
      "U Hallesches Tor\n",
      "['subway', 'bus', 'bus', 'subway', 'bus', 'bus', 'bus', 'subway', 'bus', 'subway']\n",
      "U Hallesches Tor\n",
      "['subway', 'bus', 'bus', 'subway', 'bus', 'bus', 'bus', 'subway', 'bus', 'subway', 'bus']\n"
     ]
    }
   ],
   "source": [
    "for i in range(len(query)): \n",
    "    for x in range(len(keys)): \n",
    "        if query[i]['products'][keys[x]] == True: \n",
    "            print(query[i]['name'])\n",
    "            types.append(keys[x])\n",
    "            print(types)"
   ]
  },
  {
   "cell_type": "code",
   "execution_count": 273,
   "id": "bdc5e771",
   "metadata": {},
   "outputs": [],
   "source": [
    "df = pd.DataFrame()"
   ]
  },
  {
   "cell_type": "code",
   "execution_count": 274,
   "id": "4d21ff93",
   "metadata": {},
   "outputs": [],
   "source": [
    "df['name'] = df_name\n",
    "df['lat'] = df_lat\n",
    "df['lon'] = df_lon\n",
    "df['dist'] = df_dist"
   ]
  },
  {
   "cell_type": "code",
   "execution_count": 275,
   "id": "2d520a87",
   "metadata": {},
   "outputs": [],
   "source": [
    "df['walking time'] = df['dist'].apply(lambda x: (x*60)/7000)"
   ]
  },
  {
   "cell_type": "code",
   "execution_count": 276,
   "id": "14b80907",
   "metadata": {},
   "outputs": [
    {
     "data": {
      "text/html": [
       "<div>\n",
       "<style scoped>\n",
       "    .dataframe tbody tr th:only-of-type {\n",
       "        vertical-align: middle;\n",
       "    }\n",
       "\n",
       "    .dataframe tbody tr th {\n",
       "        vertical-align: top;\n",
       "    }\n",
       "\n",
       "    .dataframe thead th {\n",
       "        text-align: right;\n",
       "    }\n",
       "</style>\n",
       "<table border=\"1\" class=\"dataframe\">\n",
       "  <thead>\n",
       "    <tr style=\"text-align: right;\">\n",
       "      <th></th>\n",
       "      <th>name</th>\n",
       "      <th>lat</th>\n",
       "      <th>lon</th>\n",
       "      <th>dist</th>\n",
       "      <th>walking time</th>\n",
       "    </tr>\n",
       "  </thead>\n",
       "  <tbody>\n",
       "    <tr>\n",
       "      <th>0</th>\n",
       "      <td>U Möckernbrücke</td>\n",
       "      <td>52.498945</td>\n",
       "      <td>13.383257</td>\n",
       "      <td>264</td>\n",
       "      <td>2.262857</td>\n",
       "    </tr>\n",
       "    <tr>\n",
       "      <th>1</th>\n",
       "      <td>Hornstr</td>\n",
       "      <td>52.493633</td>\n",
       "      <td>13.383823</td>\n",
       "      <td>420</td>\n",
       "      <td>3.600000</td>\n",
       "    </tr>\n",
       "    <tr>\n",
       "      <th>2</th>\n",
       "      <td>U Gleisdreieck</td>\n",
       "      <td>52.499583</td>\n",
       "      <td>13.374295</td>\n",
       "      <td>537</td>\n",
       "      <td>4.602857</td>\n",
       "    </tr>\n",
       "    <tr>\n",
       "      <th>3</th>\n",
       "      <td>Mehringbrücke</td>\n",
       "      <td>52.497974</td>\n",
       "      <td>13.389262</td>\n",
       "      <td>569</td>\n",
       "      <td>4.877143</td>\n",
       "    </tr>\n",
       "    <tr>\n",
       "      <th>4</th>\n",
       "      <td>Willy-Brandt-Haus</td>\n",
       "      <td>52.500411</td>\n",
       "      <td>13.387437</td>\n",
       "      <td>577</td>\n",
       "      <td>4.945714</td>\n",
       "    </tr>\n",
       "    <tr>\n",
       "      <th>5</th>\n",
       "      <td>Obentrautstr./U Mehringdamm</td>\n",
       "      <td>52.495350</td>\n",
       "      <td>13.389612</td>\n",
       "      <td>611</td>\n",
       "      <td>5.237143</td>\n",
       "    </tr>\n",
       "    <tr>\n",
       "      <th>6</th>\n",
       "      <td>U Mehringdamm</td>\n",
       "      <td>52.493570</td>\n",
       "      <td>13.388138</td>\n",
       "      <td>616</td>\n",
       "      <td>5.280000</td>\n",
       "    </tr>\n",
       "    <tr>\n",
       "      <th>7</th>\n",
       "      <td>U Hallesches Tor</td>\n",
       "      <td>52.497777</td>\n",
       "      <td>13.391761</td>\n",
       "      <td>733</td>\n",
       "      <td>6.282857</td>\n",
       "    </tr>\n",
       "  </tbody>\n",
       "</table>\n",
       "</div>"
      ],
      "text/plain": [
       "                          name        lat        lon  dist  walking time\n",
       "0              U Möckernbrücke  52.498945  13.383257   264      2.262857\n",
       "1                      Hornstr  52.493633  13.383823   420      3.600000\n",
       "2               U Gleisdreieck  52.499583  13.374295   537      4.602857\n",
       "3                Mehringbrücke  52.497974  13.389262   569      4.877143\n",
       "4            Willy-Brandt-Haus  52.500411  13.387437   577      4.945714\n",
       "5  Obentrautstr./U Mehringdamm  52.495350  13.389612   611      5.237143\n",
       "6                U Mehringdamm  52.493570  13.388138   616      5.280000\n",
       "7             U Hallesches Tor  52.497777  13.391761   733      6.282857"
      ]
     },
     "execution_count": 276,
     "metadata": {},
     "output_type": "execute_result"
    }
   ],
   "source": [
    "df"
   ]
  },
  {
   "cell_type": "code",
   "execution_count": 312,
   "id": "de7a1acb",
   "metadata": {},
   "outputs": [],
   "source": [
    "latitude = 52.52446\n",
    "longitude = 13.40812\n",
    "base = 'https://v5.bvg.transport.rest/stops/reachable-from?'\n",
    "params_1 = {'latitude' : latitude,\n",
    "            'longitude' : longitude,\n",
    "            'address' : '10178+Berlin-Mitte,+Münzstr.+12',\n",
    "            'maxDuration' : 5\n",
    "           }"
   ]
  },
  {
   "cell_type": "code",
   "execution_count": 289,
   "id": "3538d162",
   "metadata": {},
   "outputs": [],
   "source": [
    "query_1 = requests.get(base,params_1).json()"
   ]
  },
  {
   "cell_type": "code",
   "execution_count": 322,
   "id": "f7f6089d",
   "metadata": {},
   "outputs": [],
   "source": [
    "a = [[1,2,4],[5,6,7], [8,9,10]]\n"
   ]
  },
  {
   "cell_type": "code",
   "execution_count": 324,
   "id": "e644a99b",
   "metadata": {},
   "outputs": [
    {
     "data": {
      "text/plain": [
       "2"
      ]
     },
     "execution_count": 324,
     "metadata": {},
     "output_type": "execute_result"
    }
   ],
   "source": [
    "a[0][1]"
   ]
  },
  {
   "cell_type": "code",
   "execution_count": 320,
   "id": "9314996a",
   "metadata": {},
   "outputs": [
    {
     "ename": "TypeError",
     "evalue": "'int' object is not subscriptable",
     "output_type": "error",
     "traceback": [
      "\u001b[0;31m---------------------------------------------------------------------------\u001b[0m",
      "\u001b[0;31mTypeError\u001b[0m                                 Traceback (most recent call last)",
      "Cell \u001b[0;32mIn [320], line 3\u001b[0m\n\u001b[1;32m      1\u001b[0m \u001b[38;5;28;01mfor\u001b[39;00m i \u001b[38;5;129;01min\u001b[39;00m \u001b[38;5;28mrange\u001b[39m(\u001b[38;5;28mlen\u001b[39m(a)): \n\u001b[1;32m      2\u001b[0m     \u001b[38;5;28;01mfor\u001b[39;00m x \u001b[38;5;129;01min\u001b[39;00m \u001b[38;5;28mrange\u001b[39m(\u001b[38;5;241m0\u001b[39m,\u001b[38;5;241m3\u001b[39m,\u001b[38;5;241m1\u001b[39m): \n\u001b[0;32m----> 3\u001b[0m         \u001b[38;5;28mprint\u001b[39m(\u001b[43ma\u001b[49m\u001b[43m[\u001b[49m\u001b[43mi\u001b[49m\u001b[43m]\u001b[49m\u001b[43m[\u001b[49m\u001b[43mx\u001b[49m\u001b[43m]\u001b[49m)\n",
      "\u001b[0;31mTypeError\u001b[0m: 'int' object is not subscriptable"
     ]
    }
   ],
   "source": [
    "for i in range(len(a)): \n",
    "    for x in range(0,3,1): \n",
    "        print(a[i][x])"
   ]
  },
  {
   "cell_type": "code",
   "execution_count": 296,
   "id": "8b6e709c",
   "metadata": {},
   "outputs": [
    {
     "data": {
      "text/plain": [
       "[{'duration': 3,\n",
       "  'stations': [{'type': 'stop',\n",
       "    'id': '900000100030',\n",
       "    'name': 'Memhardstr.',\n",
       "    'location': {'type': 'location',\n",
       "     'id': '900100030',\n",
       "     'latitude': 52.524034,\n",
       "     'longitude': 13.41098},\n",
       "    'products': {'suburban': True,\n",
       "     'subway': True,\n",
       "     'tram': True,\n",
       "     'bus': True,\n",
       "     'ferry': False,\n",
       "     'express': False,\n",
       "     'regional': True},\n",
       "    'stationDHID': 'de:11000:900100030'},\n",
       "   {'type': 'stop',\n",
       "    'id': '900000100051',\n",
       "    'name': 'U Weinmeisterstr.',\n",
       "    'location': {'type': 'location',\n",
       "     'id': '900100051',\n",
       "     'latitude': 52.525374,\n",
       "     'longitude': 13.405308},\n",
       "    'products': {'suburban': False,\n",
       "     'subway': True,\n",
       "     'tram': False,\n",
       "     'bus': True,\n",
       "     'ferry': False,\n",
       "     'express': False,\n",
       "     'regional': False},\n",
       "    'stationDHID': 'de:11000:900100051'}]},\n",
       " {'duration': 4,\n",
       "  'stations': [{'type': 'stop',\n",
       "    'id': '900000100023',\n",
       "    'name': 'U Rosenthaler Platz',\n",
       "    'location': {'type': 'location',\n",
       "     'id': '900100023',\n",
       "     'latitude': 52.529778,\n",
       "     'longitude': 13.401397},\n",
       "    'products': {'suburban': False,\n",
       "     'subway': True,\n",
       "     'tram': True,\n",
       "     'bus': True,\n",
       "     'ferry': False,\n",
       "     'express': False,\n",
       "     'regional': False},\n",
       "    'stationDHID': 'de:11000:900100023'},\n",
       "   {'type': 'stop',\n",
       "    'id': '900000100731',\n",
       "    'name': 'S+U Alexanderpl/Memhardstr.',\n",
       "    'location': {'type': 'location',\n",
       "     'id': '900100731',\n",
       "     'latitude': 52.523513,\n",
       "     'longitude': 13.411366},\n",
       "    'products': {'suburban': True,\n",
       "     'subway': True,\n",
       "     'tram': True,\n",
       "     'bus': True,\n",
       "     'ferry': False,\n",
       "     'express': False,\n",
       "     'regional': True},\n",
       "    'stationDHID': 'de:11000:900100731'}]},\n",
       " {'duration': 5,\n",
       "  'stations': [{'type': 'stop',\n",
       "    'id': '900000100031',\n",
       "    'name': 'S+U Alexanderplatz/Memhardstr.',\n",
       "    'location': {'type': 'location',\n",
       "     'id': '900100031',\n",
       "     'latitude': 52.522937,\n",
       "     'longitude': 13.410755},\n",
       "    'products': {'suburban': True,\n",
       "     'subway': True,\n",
       "     'tram': True,\n",
       "     'bus': True,\n",
       "     'ferry': False,\n",
       "     'express': False,\n",
       "     'regional': True},\n",
       "    'stationDHID': 'de:11000:900100031'},\n",
       "   {'type': 'stop',\n",
       "    'id': '900000100080',\n",
       "    'name': 'U Weinmeisterstr./Gipsstr.',\n",
       "    'location': {'type': 'location',\n",
       "     'id': '900100080',\n",
       "     'latitude': 52.52549,\n",
       "     'longitude': 13.403528},\n",
       "    'products': {'suburban': False,\n",
       "     'subway': True,\n",
       "     'tram': True,\n",
       "     'bus': True,\n",
       "     'ferry': False,\n",
       "     'express': False,\n",
       "     'regional': False},\n",
       "    'stationDHID': 'de:11000:900100080'},\n",
       "   {'type': 'stop',\n",
       "    'id': '900000100705',\n",
       "    'name': 'S+U Alexanderplatz [U8]',\n",
       "    'location': {'type': 'location',\n",
       "     'id': '900100705',\n",
       "     'latitude': 52.521616,\n",
       "     'longitude': 13.412121},\n",
       "    'products': {'suburban': True,\n",
       "     'subway': True,\n",
       "     'tram': True,\n",
       "     'bus': True,\n",
       "     'ferry': False,\n",
       "     'express': False,\n",
       "     'regional': True},\n",
       "    'stationDHID': 'de:11000:900100705'}]}]"
      ]
     },
     "execution_count": 296,
     "metadata": {},
     "output_type": "execute_result"
    }
   ],
   "source": [
    "query_1"
   ]
  },
  {
   "cell_type": "code",
   "execution_count": 311,
   "id": "549e4835",
   "metadata": {},
   "outputs": [
    {
     "ename": "IndexError",
     "evalue": "list index out of range",
     "output_type": "error",
     "traceback": [
      "\u001b[0;31m---------------------------------------------------------------------------\u001b[0m",
      "\u001b[0;31mIndexError\u001b[0m                                Traceback (most recent call last)",
      "Cell \u001b[0;32mIn [311], line 1\u001b[0m\n\u001b[0;32m----> 1\u001b[0m \u001b[43mquery_1\u001b[49m\u001b[43m[\u001b[49m\u001b[38;5;241;43m1\u001b[39;49m\u001b[43m]\u001b[49m\u001b[43m[\u001b[49m\u001b[38;5;124;43m'\u001b[39;49m\u001b[38;5;124;43mstations\u001b[39;49m\u001b[38;5;124;43m'\u001b[39;49m\u001b[43m]\u001b[49m\u001b[43m[\u001b[49m\u001b[38;5;241;43m2\u001b[39;49m\u001b[43m]\u001b[49m\n",
      "\u001b[0;31mIndexError\u001b[0m: list index out of range"
     ]
    }
   ],
   "source": [
    "query_1[1]['stations'][2]"
   ]
  },
  {
   "cell_type": "code",
   "execution_count": 298,
   "id": "39ca5c05",
   "metadata": {
    "scrolled": true
   },
   "outputs": [
    {
     "ename": "TypeError",
     "evalue": "list indices must be integers or slices, not str",
     "output_type": "error",
     "traceback": [
      "\u001b[0;31m---------------------------------------------------------------------------\u001b[0m",
      "\u001b[0;31mTypeError\u001b[0m                                 Traceback (most recent call last)",
      "Cell \u001b[0;32mIn [298], line 4\u001b[0m\n\u001b[1;32m      2\u001b[0m stations \u001b[38;5;241m=\u001b[39m []\n\u001b[1;32m      3\u001b[0m \u001b[38;5;28;01mfor\u001b[39;00m i \u001b[38;5;129;01min\u001b[39;00m \u001b[38;5;28mrange\u001b[39m(\u001b[38;5;28mlen\u001b[39m(query_1)):\n\u001b[0;32m----> 4\u001b[0m     stations\u001b[38;5;241m.\u001b[39mappend(\u001b[43mquery_1\u001b[49m\u001b[43m[\u001b[49m\u001b[43mi\u001b[49m\u001b[43m]\u001b[49m\u001b[43m[\u001b[49m\u001b[38;5;124;43m'\u001b[39;49m\u001b[38;5;124;43mstations\u001b[39;49m\u001b[38;5;124;43m'\u001b[39;49m\u001b[43m]\u001b[49m\u001b[43m[\u001b[49m\u001b[38;5;124;43m'\u001b[39;49m\u001b[38;5;124;43mname\u001b[39;49m\u001b[38;5;124;43m'\u001b[39;49m\u001b[43m]\u001b[49m)\n\u001b[1;32m      5\u001b[0m     duration\u001b[38;5;241m.\u001b[39mappend(query_1[i][\u001b[38;5;124m'\u001b[39m\u001b[38;5;124mduration\u001b[39m\u001b[38;5;124m'\u001b[39m])\n",
      "\u001b[0;31mTypeError\u001b[0m: list indices must be integers or slices, not str"
     ]
    }
   ],
   "source": [
    "duration = []\n",
    "stations = []\n",
    "for i in range(len(query_1)):\n",
    "    stations.append(query_1[i]['stations']['name'])\n",
    "    duration.append(query_1[i]['duration'])"
   ]
  },
  {
   "cell_type": "code",
   "execution_count": 295,
   "id": "e55e32f7",
   "metadata": {},
   "outputs": [
    {
     "data": {
      "text/plain": [
       "[3, 3, 3]"
      ]
     },
     "execution_count": 295,
     "metadata": {},
     "output_type": "execute_result"
    }
   ],
   "source": [
    "duration"
   ]
  },
  {
   "cell_type": "code",
   "execution_count": null,
   "id": "2982e38b",
   "metadata": {},
   "outputs": [],
   "source": []
  }
 ],
 "metadata": {
  "kernelspec": {
   "display_name": "Python 3 (ipykernel)",
   "language": "python",
   "name": "python3"
  },
  "language_info": {
   "codemirror_mode": {
    "name": "ipython",
    "version": 3
   },
   "file_extension": ".py",
   "mimetype": "text/x-python",
   "name": "python",
   "nbconvert_exporter": "python",
   "pygments_lexer": "ipython3",
   "version": "3.10.6"
  },
  "toc": {
   "base_numbering": 1,
   "nav_menu": {},
   "number_sections": true,
   "sideBar": true,
   "skip_h1_title": false,
   "title_cell": "Table of Contents",
   "title_sidebar": "Contents",
   "toc_cell": false,
   "toc_position": {},
   "toc_section_display": true,
   "toc_window_display": false
  }
 },
 "nbformat": 4,
 "nbformat_minor": 5
}
