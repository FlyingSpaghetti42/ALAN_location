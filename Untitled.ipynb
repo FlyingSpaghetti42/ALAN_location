{
 "cells": [
  {
   "cell_type": "code",
   "execution_count": 1,
   "id": "b27150d7",
   "metadata": {},
   "outputs": [],
   "source": [
    "import pandas as pd\n",
    "import numpy as np\n",
    "import pydeck as pdk\n",
    "import streamlit as st\n",
    "import folium\n",
    "import streamlit_folium as st_folium\n",
    "from data.data_engineering import get_location, get_complete_data, column_selection, subcolumn_selection\n",
    "import io\n",
    "import requests\n",
    "import geopy"
   ]
  },
  {
   "cell_type": "code",
   "execution_count": 2,
   "id": "8166f960",
   "metadata": {},
   "outputs": [],
   "source": [
    "#Function takes address as input and returns latitude and longitude\n",
    "def get_location(address):\n",
    "    from geopy.geocoders import Nominatim\n",
    "    geolocator = Nominatim(user_agent='default')\n",
    "    location = geolocator.geocode(address)\n",
    "    if location is not None:\n",
    "        return (location.latitude, location.longitude)\n",
    "    return \"Address not found\"\n"
   ]
  },
  {
   "cell_type": "code",
   "execution_count": 3,
   "id": "39dff301",
   "metadata": {},
   "outputs": [],
   "source": [
    "#Function takes tuple of longitude and latitude and returns a dataframe with data with in 2 KM  radius\n",
    "def get_complete_data(location, radius=2000):\n",
    "    overpass_url = 'https://z.overpass-api.de/api/interpreter'\n",
    "\n",
    "    overpass_query = f\"\"\"\n",
    "    [out:csv(\n",
    "        ::id, amenity, shop, office, highway, public_transport, tourism, sport,name, ::lat, ::lon, 'contact:phone','contact:website', 'addr:city','addr:street','addr:housenumber',\n",
    "        'addr:postcode', 'addr:suburb', 'addr:country'\n",
    "      )];\n",
    "    (node(around:{radius},{location[0]},{location[1]});\n",
    "    );\n",
    "    out center;\n",
    "    \"\"\"\n",
    "    response = requests.get(overpass_url,\n",
    "                            params={'data': overpass_query})\n",
    "    r=response.content\n",
    "\n",
    "    rawData = pd.read_csv(io.StringIO(r.decode('utf-8')), delimiter='\\t')\n",
    "    return rawData"
   ]
  },
  {
   "cell_type": "code",
   "execution_count": 4,
   "id": "cde2a3e4",
   "metadata": {},
   "outputs": [],
   "source": [
    "\n",
    "#Function cleans the data based on column selection\n",
    "def column_selection(location,column_name):\n",
    "    df=get_complete_data(location)\n",
    "    list_columns=[ \"shop\", \"office\", \"highway\", \"public_transport\", \"tourism\", \"amenity\", \"sport\"]\n",
    "    df_column_selected= df.dropna(subset=[column_name, 'name'])\n",
    "    list_columns.remove(column_name)\n",
    "    df_column_selected.drop(columns=list_columns, inplace=True)\n",
    "    df_column_selected.reset_index(inplace=True, drop=True)\n",
    "    return df_column_selected"
   ]
  },
  {
   "cell_type": "code",
   "execution_count": 5,
   "id": "32f1e60c",
   "metadata": {},
   "outputs": [],
   "source": [
    "#Function to update the dateframe with sub column selection\n",
    "def subcolumn_selection(df, column_name,subcolumn_name):\n",
    "    return df[df[column_name] == subcolumn_name].reset_index(drop=True)\n",
    "\n"
   ]
  },
  {
   "cell_type": "code",
   "execution_count": 6,
   "id": "b960ccde",
   "metadata": {},
   "outputs": [
    {
     "ename": "KeyError",
     "evalue": "['']",
     "output_type": "error",
     "traceback": [
      "\u001b[0;31m---------------------------------------------------------------------------\u001b[0m",
      "\u001b[0;31mKeyError\u001b[0m                                  Traceback (most recent call last)",
      "Cell \u001b[0;32mIn [6], line 6\u001b[0m\n\u001b[1;32m      4\u001b[0m location\u001b[39m=\u001b[39mget_location(address)\n\u001b[1;32m      5\u001b[0m \u001b[39m# df=get_complete_data(location)\u001b[39;00m\n\u001b[0;32m----> 6\u001b[0m df_cleaned\u001b[39m=\u001b[39mcolumn_selection(location, preference)\n\u001b[1;32m      7\u001b[0m subcolumn\u001b[39m=\u001b[39m\u001b[39minput\u001b[39m(\u001b[39m'\u001b[39m\u001b[39mselect your sub interests:\u001b[39m\u001b[39m'\u001b[39m)\n\u001b[1;32m      8\u001b[0m df_final\u001b[39m=\u001b[39msubcolumn_selection(df_cleaned, preference,subcolumn)\n",
      "Cell \u001b[0;32mIn [4], line 5\u001b[0m, in \u001b[0;36mcolumn_selection\u001b[0;34m(location, column_name)\u001b[0m\n\u001b[1;32m      3\u001b[0m df\u001b[39m=\u001b[39mget_complete_data(location)\n\u001b[1;32m      4\u001b[0m list_columns\u001b[39m=\u001b[39m[ \u001b[39m\"\u001b[39m\u001b[39mshop\u001b[39m\u001b[39m\"\u001b[39m, \u001b[39m\"\u001b[39m\u001b[39moffice\u001b[39m\u001b[39m\"\u001b[39m, \u001b[39m\"\u001b[39m\u001b[39mhighway\u001b[39m\u001b[39m\"\u001b[39m, \u001b[39m\"\u001b[39m\u001b[39mpublic_transport\u001b[39m\u001b[39m\"\u001b[39m, \u001b[39m\"\u001b[39m\u001b[39mtourism\u001b[39m\u001b[39m\"\u001b[39m, \u001b[39m\"\u001b[39m\u001b[39mamenity\u001b[39m\u001b[39m\"\u001b[39m, \u001b[39m\"\u001b[39m\u001b[39msport\u001b[39m\u001b[39m\"\u001b[39m]\n\u001b[0;32m----> 5\u001b[0m df_column_selected\u001b[39m=\u001b[39m df\u001b[39m.\u001b[39;49mdropna(subset\u001b[39m=\u001b[39;49m[column_name, \u001b[39m'\u001b[39;49m\u001b[39mname\u001b[39;49m\u001b[39m'\u001b[39;49m])\n\u001b[1;32m      6\u001b[0m list_columns\u001b[39m.\u001b[39mremove(column_name)\n\u001b[1;32m      7\u001b[0m df_column_selected\u001b[39m.\u001b[39mdrop(columns\u001b[39m=\u001b[39mlist_columns, inplace\u001b[39m=\u001b[39m\u001b[39mTrue\u001b[39;00m)\n",
      "File \u001b[0;32m~/.pyenv/versions/3.10.6/envs/ALAN/lib/python3.10/site-packages/pandas/util/_decorators.py:331\u001b[0m, in \u001b[0;36mdeprecate_nonkeyword_arguments.<locals>.decorate.<locals>.wrapper\u001b[0;34m(*args, **kwargs)\u001b[0m\n\u001b[1;32m    325\u001b[0m \u001b[39mif\u001b[39;00m \u001b[39mlen\u001b[39m(args) \u001b[39m>\u001b[39m num_allow_args:\n\u001b[1;32m    326\u001b[0m     warnings\u001b[39m.\u001b[39mwarn(\n\u001b[1;32m    327\u001b[0m         msg\u001b[39m.\u001b[39mformat(arguments\u001b[39m=\u001b[39m_format_argument_list(allow_args)),\n\u001b[1;32m    328\u001b[0m         \u001b[39mFutureWarning\u001b[39;00m,\n\u001b[1;32m    329\u001b[0m         stacklevel\u001b[39m=\u001b[39mfind_stack_level(),\n\u001b[1;32m    330\u001b[0m     )\n\u001b[0;32m--> 331\u001b[0m \u001b[39mreturn\u001b[39;00m func(\u001b[39m*\u001b[39;49margs, \u001b[39m*\u001b[39;49m\u001b[39m*\u001b[39;49mkwargs)\n",
      "File \u001b[0;32m~/.pyenv/versions/3.10.6/envs/ALAN/lib/python3.10/site-packages/pandas/core/frame.py:6558\u001b[0m, in \u001b[0;36mDataFrame.dropna\u001b[0;34m(self, axis, how, thresh, subset, inplace)\u001b[0m\n\u001b[1;32m   6556\u001b[0m     check \u001b[39m=\u001b[39m indices \u001b[39m==\u001b[39m \u001b[39m-\u001b[39m\u001b[39m1\u001b[39m\n\u001b[1;32m   6557\u001b[0m     \u001b[39mif\u001b[39;00m check\u001b[39m.\u001b[39many():\n\u001b[0;32m-> 6558\u001b[0m         \u001b[39mraise\u001b[39;00m \u001b[39mKeyError\u001b[39;00m(np\u001b[39m.\u001b[39marray(subset)[check]\u001b[39m.\u001b[39mtolist())\n\u001b[1;32m   6559\u001b[0m     agg_obj \u001b[39m=\u001b[39m \u001b[39mself\u001b[39m\u001b[39m.\u001b[39mtake(indices, axis\u001b[39m=\u001b[39magg_axis)\n\u001b[1;32m   6561\u001b[0m \u001b[39mif\u001b[39;00m thresh \u001b[39mis\u001b[39;00m \u001b[39mnot\u001b[39;00m no_default:\n",
      "\u001b[0;31mKeyError\u001b[0m: ['']"
     ]
    }
   ],
   "source": [
    "if __name__ == '__main__':\n",
    "    address=input(\"please enter the address:\")\n",
    "    preference=input ('select yor interests (\"shop\", \"office\", \"highway\", \"public_transport\", \"tourism\", \"amenity\", \"sport\"):')\n",
    "    location=get_location(address)\n",
    "    df=get_complete_data(location)\n",
    "    df_cleaned=column_selection(location, preference)\n",
    "    subcolumn=input('select your sub interests:')\n",
    "    df_final=subcolumn_selection(df_cleaned, preference,subcolumn)\n",
    "    print(df_final.head(20))"
   ]
  },
  {
   "cell_type": "code",
   "execution_count": null,
   "id": "b9dcef1c",
   "metadata": {},
   "outputs": [],
   "source": []
  },
  {
   "cell_type": "code",
   "execution_count": null,
   "id": "6ab8da25",
   "metadata": {},
   "outputs": [],
   "source": []
  }
 ],
 "metadata": {
  "kernelspec": {
   "display_name": "Python 3.10.6 64-bit ('ALAN')",
   "language": "python",
   "name": "python3"
  },
  "language_info": {
   "codemirror_mode": {
    "name": "ipython",
    "version": 3
   },
   "file_extension": ".py",
   "mimetype": "text/x-python",
   "name": "python",
   "nbconvert_exporter": "python",
   "pygments_lexer": "ipython3",
   "version": "3.10.6"
  },
  "toc": {
   "base_numbering": 1,
   "nav_menu": {},
   "number_sections": true,
   "sideBar": true,
   "skip_h1_title": false,
   "title_cell": "Table of Contents",
   "title_sidebar": "Contents",
   "toc_cell": false,
   "toc_position": {},
   "toc_section_display": true,
   "toc_window_display": false
  },
  "vscode": {
   "interpreter": {
    "hash": "9416dac77f27120f399b3572ed5c4424d32527a2de99560e77e90d4654723eb2"
   }
  }
 },
 "nbformat": 4,
 "nbformat_minor": 5
}
