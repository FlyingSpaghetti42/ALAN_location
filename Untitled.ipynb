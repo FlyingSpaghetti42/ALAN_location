{
 "cells": [
  {
   "cell_type": "code",
   "execution_count": 1,
   "id": "b27150d7",
   "metadata": {},
   "outputs": [],
   "source": [
    "import pandas as pd\n",
    "import numpy as np\n",
    "import pydeck as pdk\n",
    "import streamlit as st\n",
    "import folium\n",
    "import streamlit_folium as st_folium\n",
    "from data.data_engineering import get_location, get_complete_data, column_selection, subcolumn_selection\n",
    "import io\n",
    "import requests\n",
    "import geopy"
   ]
  },
  {
   "cell_type": "code",
   "execution_count": 2,
   "id": "8166f960",
   "metadata": {},
   "outputs": [],
   "source": [
    "#Function takes address as input and returns latitude and longitude\n",
    "def get_location(address):\n",
    "    from geopy.geocoders import Nominatim\n",
    "    geolocator = Nominatim(user_agent='default')\n",
    "    location = geolocator.geocode(address)\n",
    "    if location is not None:\n",
    "        return (location.latitude, location.longitude)\n",
    "    return \"Address not found\"\n"
   ]
  },
  {
   "cell_type": "code",
   "execution_count": 3,
   "id": "39dff301",
   "metadata": {},
   "outputs": [],
   "source": [
    "#Function takes tuple of longitude and latitude and returns a dataframe with data with in 2 KM  radius\n",
    "def get_complete_data(location, radius=2000):\n",
    "    overpass_url = 'https://z.overpass-api.de/api/interpreter'\n",
    "\n",
    "    overpass_query = f\"\"\"\n",
    "    [out:csv(\n",
    "        ::id, amenity, shop, office, highway, public_transport, tourism, sport,name, ::lat, ::lon, 'contact:phone','contact:website', 'addr:city','addr:street','addr:housenumber',\n",
    "        'addr:postcode', 'addr:suburb', 'addr:country'\n",
    "      )];\n",
    "    (node(around:{radius},{location[0]},{location[1]});\n",
    "    );\n",
    "    out center;\n",
    "    \"\"\"\n",
    "    response = requests.get(overpass_url,\n",
    "                            params={'data': overpass_query})\n",
    "    r=response.content\n",
    "\n",
    "    rawData = pd.read_csv(io.StringIO(r.decode('utf-8')), delimiter='\\t')\n",
    "    return rawData"
   ]
  },
  {
   "cell_type": "code",
   "execution_count": 4,
   "id": "cde2a3e4",
   "metadata": {},
   "outputs": [],
   "source": [
    "\n",
    "#Function cleans the data based on column selection\n",
    "def column_selection(location,column_name):\n",
    "    df=get_complete_data(location)\n",
    "    list_columns=[ \"shop\", \"office\", \"highway\", \"public_transport\", \"tourism\", \"amenity\", \"sport\"]\n",
    "    df_column_selected= df.dropna(subset=[column_name, 'name'])\n",
    "    list_columns.remove(column_name)\n",
    "    df_column_selected.drop(columns=list_columns, inplace=True)\n",
    "    df_column_selected.reset_index(inplace=True, drop=True)\n",
    "    return df_column_selected"
   ]
  },
  {
   "cell_type": "code",
   "execution_count": 5,
   "id": "32f1e60c",
   "metadata": {},
   "outputs": [],
   "source": [
    "#Function to update the dateframe with sub column selection\n",
    "def subcolumn_selection(df, column_name,subcolumn_name):\n",
    "    return df[df[column_name] == subcolumn_name].reset_index(drop=True)\n",
    "\n"
   ]
  },
  {
   "cell_type": "code",
   "execution_count": 6,
   "id": "b960ccde",
   "metadata": {},
   "outputs": [],
   "source": [
    "if __name__ == '__main__':\n",
    "    address=input(\"please enter the address:\")\n",
    "    preference=input ('select yor interests (\"shop\", \"office\", \"highway\", \"public_transport\", \"tourism\", \"amenity\", \"sport\"):')\n",
    "    location=get_location(address)\n",
    "    df=get_complete_data(location)\n",
    "    df_cleaned=column_selection(location, preference)\n",
    "    subcolumn=input('select your sub interests:')\n",
    "    df_final=subcolumn_selection(df_cleaned, preference,subcolumn)\n",
    "    print(df_final.head(20))"
   ]
  },
  {
   "cell_type": "code",
   "execution_count": null,
   "id": "b9dcef1c",
   "metadata": {},
   "outputs": [],
   "source": []
  },
  {
   "cell_type": "code",
   "execution_count": null,
   "id": "6ab8da25",
   "metadata": {},
   "outputs": [],
   "source": []
  }
 ],
 "metadata": {
  "kernelspec": {
   "display_name": "Python 3.10.6 64-bit ('ALAN')",
   "language": "python",
   "name": "python3"
  },
  "language_info": {
   "codemirror_mode": {
    "name": "ipython",
    "version": 3
   },
   "file_extension": ".py",
   "mimetype": "text/x-python",
   "name": "python",
   "nbconvert_exporter": "python",
   "pygments_lexer": "ipython3",
   "version": "3.10.6"
  },
  "toc": {
   "base_numbering": 1,
   "nav_menu": {},
   "number_sections": true,
   "sideBar": true,
   "skip_h1_title": false,
   "title_cell": "Table of Contents",
   "title_sidebar": "Contents",
   "toc_cell": false,
   "toc_position": {},
   "toc_section_display": true,
   "toc_window_display": false
  },
  "vscode": {
   "interpreter": {
    "hash": "9416dac77f27120f399b3572ed5c4424d32527a2de99560e77e90d4654723eb2"
   }
  }
 },
 "nbformat": 4,
 "nbformat_minor": 5
}
