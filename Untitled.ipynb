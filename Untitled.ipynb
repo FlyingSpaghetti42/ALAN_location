{
 "cells": [
  {
   "cell_type": "code",
   "execution_count": 18,
   "id": "b27150d7",
   "metadata": {},
   "outputs": [],
   "source": [
    "import pandas as pd\n",
    "import numpy as np\n",
    "import pydeck as pdk\n",
    "import streamlit as st\n",
    "import folium\n",
    "import streamlit_folium as st_folium\n",
    "from data_.data import cleaning"
   ]
  },
  {
   "cell_type": "code",
   "execution_count": 98,
   "id": "ea55702a",
   "metadata": {},
   "outputs": [],
   "source": [
    "#defining the map layout:\n",
    "st.set_page_config(layout=\"wide\")"
   ]
  },
  {
   "cell_type": "code",
   "execution_count": 99,
   "id": "55c09c6b",
   "metadata": {},
   "outputs": [],
   "source": [
    "info_input = cleaning()"
   ]
  },
  {
   "cell_type": "code",
   "execution_count": 100,
   "id": "727d001b",
   "metadata": {},
   "outputs": [],
   "source": [
    "amenities = list(info_input.amenity.unique())"
   ]
  },
  {
   "cell_type": "code",
   "execution_count": null,
   "id": "912fc1c6",
   "metadata": {},
   "outputs": [],
   "source": [
    "#Input params:\n",
    "radius = st.slider('Radius',100,5000,1000,50)\n",
    "option = st.multiselect('Select amenit:', amenities)"
   ]
  },
  {
   "cell_type": "code",
   "execution_count": null,
   "id": "246019da",
   "metadata": {},
   "outputs": [],
   "source": [
    "#creating a checklist for our dataframe (only the amenities in this list will be kept in our DF):\n",
    "\n",
    "checks = []\n",
    "for i in range(len(option)):\n",
    "    checks.append(option[i])"
   ]
  },
  {
   "cell_type": "code",
   "execution_count": null,
   "id": "837d380e",
   "metadata": {},
   "outputs": [],
   "source": [
    "#giving each amenity a color:\n",
    "color = {\n",
    "         'bar' : 'red',\n",
    "         'restaurant': 'blue'\n",
    "         }"
   ]
  },
  {
   "cell_type": "code",
   "execution_count": null,
   "id": "ad127ad5",
   "metadata": {},
   "outputs": [],
   "source": [
    "\n",
    "\n",
    "\n",
    "#defining the data to be displayed:\n",
    "display_data = info_input[info_input['amenity'].isin(checks)].reset_index()\n",
    "\n",
    "#######################################\n",
    "######### Displaying the data #########\n",
    "#######################################\n",
    "\n",
    "#initilaizing our map\n",
    "map = folium.Map(location=[info_input.lat.mean(), info_input.lon.mean()], zoom_start=14, control_scale=True)\n",
    "\n",
    "\n",
    "\n",
    "#getting all the selected datapoints into the map (we only display up to 100 datapoints)\n",
    "for i in range(len(display_data)):\n",
    "    folium.Marker([display_data[\"lat\"][i],\n",
    "                display_data[\"lon\"][i]],\n",
    "                popup=display_data[\"name\"][i],\n",
    "                icon = folium.Icon(color = color[display_data[\"amenity\"][i]],\n",
    "                                    icon = 'info-sign')).add_to(map)\n",
    "\n",
    "\n",
    "\n",
    "#creating a radius:\n",
    "folium.Circle(\n",
    "    location=[info_input.lat.mean(),info_input.lon.mean()],\n",
    "    radius=radius,\n",
    "    popup=\"Laurelhurst Park\",\n",
    "    color=\"#3186cc\",\n",
    "    fill=True,\n",
    "    fill_color=\"#3186cc\",\n",
    ").add_to(map)\n",
    "\n",
    "\n",
    "#displaying the map:\n",
    "st_folium.folium_static(map, width = 1600, height = 1000)\n"
   ]
  },
  {
   "cell_type": "code",
   "execution_count": null,
   "id": "84ad1ec7",
   "metadata": {},
   "outputs": [],
   "source": []
  }
 ],
 "metadata": {
  "kernelspec": {
   "display_name": "Python 3.10.6 64-bit ('ALAN')",
   "language": "python",
   "name": "python3"
  },
  "language_info": {
   "codemirror_mode": {
    "name": "ipython",
    "version": 3
   },
   "file_extension": ".py",
   "mimetype": "text/x-python",
   "name": "python",
   "nbconvert_exporter": "python",
   "pygments_lexer": "ipython3",
   "version": "3.10.6"
  },
  "toc": {
   "base_numbering": 1,
   "nav_menu": {},
   "number_sections": true,
   "sideBar": true,
   "skip_h1_title": false,
   "title_cell": "Table of Contents",
   "title_sidebar": "Contents",
   "toc_cell": false,
   "toc_position": {},
   "toc_section_display": true,
   "toc_window_display": false
  },
  "vscode": {
   "interpreter": {
    "hash": "9416dac77f27120f399b3572ed5c4424d32527a2de99560e77e90d4654723eb2"
   }
  }
 },
 "nbformat": 4,
 "nbformat_minor": 5
}
