{
 "cells": [
  {
   "cell_type": "code",
   "execution_count": 33,
   "id": "3499d13b",
   "metadata": {},
   "outputs": [],
   "source": [
    "import streamlit as st\n",
    "import pandas as pd\n",
    "import numpy as np\n",
    "import csv\n",
    "\n",
    "cities = pd.read_csv('data/worldcities.csv',header = 0)\n",
    "st.write('hello 👋')"
   ]
  },
  {
   "cell_type": "code",
   "execution_count": 35,
   "id": "8db83f83",
   "metadata": {},
   "outputs": [],
   "source": [
    "city_name = cities[['city', 'lng', 'lat']]\n",
    "city_name.set_index('city')"
   ]
  },
  {
   "cell_type": "code",
   "execution_count": 37,
   "id": "37b75375",
   "metadata": {},
   "outputs": [
    {
     "data": {
      "text/html": [
       "<div>\n",
       "<style scoped>\n",
       "    .dataframe tbody tr th:only-of-type {\n",
       "        vertical-align: middle;\n",
       "    }\n",
       "\n",
       "    .dataframe tbody tr th {\n",
       "        vertical-align: top;\n",
       "    }\n",
       "\n",
       "    .dataframe thead th {\n",
       "        text-align: right;\n",
       "    }\n",
       "</style>\n",
       "<table border=\"1\" class=\"dataframe\">\n",
       "  <thead>\n",
       "    <tr style=\"text-align: right;\">\n",
       "      <th></th>\n",
       "      <th>lng</th>\n",
       "      <th>lat</th>\n",
       "    </tr>\n",
       "    <tr>\n",
       "      <th>city</th>\n",
       "      <th></th>\n",
       "      <th></th>\n",
       "    </tr>\n",
       "  </thead>\n",
       "  <tbody>\n",
       "    <tr>\n",
       "      <th>Tokyo</th>\n",
       "      <td>139.7744</td>\n",
       "      <td>35.6839</td>\n",
       "    </tr>\n",
       "    <tr>\n",
       "      <th>Jakarta</th>\n",
       "      <td>106.8451</td>\n",
       "      <td>-6.2146</td>\n",
       "    </tr>\n",
       "    <tr>\n",
       "      <th>Delhi</th>\n",
       "      <td>77.2167</td>\n",
       "      <td>28.6667</td>\n",
       "    </tr>\n",
       "    <tr>\n",
       "      <th>Manila</th>\n",
       "      <td>120.9833</td>\n",
       "      <td>14.6000</td>\n",
       "    </tr>\n",
       "    <tr>\n",
       "      <th>São Paulo</th>\n",
       "      <td>-46.6339</td>\n",
       "      <td>-23.5504</td>\n",
       "    </tr>\n",
       "    <tr>\n",
       "      <th>...</th>\n",
       "      <td>...</td>\n",
       "      <td>...</td>\n",
       "    </tr>\n",
       "    <tr>\n",
       "      <th>Tukchi</th>\n",
       "      <td>139.5000</td>\n",
       "      <td>57.3670</td>\n",
       "    </tr>\n",
       "    <tr>\n",
       "      <th>Numto</th>\n",
       "      <td>71.3333</td>\n",
       "      <td>63.6667</td>\n",
       "    </tr>\n",
       "    <tr>\n",
       "      <th>Nord</th>\n",
       "      <td>-17.8000</td>\n",
       "      <td>81.7166</td>\n",
       "    </tr>\n",
       "    <tr>\n",
       "      <th>Timmiarmiut</th>\n",
       "      <td>-42.2167</td>\n",
       "      <td>62.5333</td>\n",
       "    </tr>\n",
       "    <tr>\n",
       "      <th>Nordvik</th>\n",
       "      <td>111.5100</td>\n",
       "      <td>74.0165</td>\n",
       "    </tr>\n",
       "  </tbody>\n",
       "</table>\n",
       "<p>42905 rows × 2 columns</p>\n",
       "</div>"
      ],
      "text/plain": [
       "                  lng      lat\n",
       "city                          \n",
       "Tokyo        139.7744  35.6839\n",
       "Jakarta      106.8451  -6.2146\n",
       "Delhi         77.2167  28.6667\n",
       "Manila       120.9833  14.6000\n",
       "São Paulo    -46.6339 -23.5504\n",
       "...               ...      ...\n",
       "Tukchi       139.5000  57.3670\n",
       "Numto         71.3333  63.6667\n",
       "Nord         -17.8000  81.7166\n",
       "Timmiarmiut  -42.2167  62.5333\n",
       "Nordvik      111.5100  74.0165\n",
       "\n",
       "[42905 rows x 2 columns]"
      ]
     },
     "execution_count": 37,
     "metadata": {},
     "output_type": "execute_result"
    }
   ],
   "source": []
  },
  {
   "cell_type": "code",
   "execution_count": 48,
   "id": "d7c257fa",
   "metadata": {},
   "outputs": [
    {
     "data": {
      "text/plain": [
       "0    139.7744\n",
       "Name: lng, dtype: float64"
      ]
     },
     "execution_count": 48,
     "metadata": {},
     "output_type": "execute_result"
    }
   ],
   "source": [
    "city_name[city_name['city'].str.match('Tokyo')]['lng']\n"
   ]
  },
  {
   "cell_type": "code",
   "execution_count": null,
   "id": "3905c4ec",
   "metadata": {},
   "outputs": [],
   "source": []
  }
 ],
 "metadata": {
  "kernelspec": {
   "display_name": "Python 3 (ipykernel)",
   "language": "python",
   "name": "python3"
  },
  "language_info": {
   "codemirror_mode": {
    "name": "ipython",
    "version": 3
   },
   "file_extension": ".py",
   "mimetype": "text/x-python",
   "name": "python",
   "nbconvert_exporter": "python",
   "pygments_lexer": "ipython3",
   "version": "3.10.6"
  },
  "toc": {
   "base_numbering": 1,
   "nav_menu": {},
   "number_sections": true,
   "sideBar": true,
   "skip_h1_title": false,
   "title_cell": "Table of Contents",
   "title_sidebar": "Contents",
   "toc_cell": false,
   "toc_position": {},
   "toc_section_display": true,
   "toc_window_display": false
  }
 },
 "nbformat": 4,
 "nbformat_minor": 5
}
