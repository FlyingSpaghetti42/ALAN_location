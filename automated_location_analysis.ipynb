{
 "cells": [
  {
   "cell_type": "markdown",
   "id": "22e959e9",
   "metadata": {},
   "source": [
    "# **Automated Location Analysis Tool**\n"
   ]
  },
  {
   "cell_type": "code",
   "execution_count": null,
   "id": "0d912496",
   "metadata": {},
   "outputs": [],
   "source": [
    "import requests"
   ]
  },
  {
   "cell_type": "markdown",
   "id": "c0b0f73f",
   "metadata": {},
   "source": [
    "## Overview \n",
    "The goal of the project is to create a dashboard, which outputs an automated location analysis for a specified address. The tool should be designed such that it is useful for a variety of actors, for whom a structured assessment of a location presents beneficial (productivity improvement). For instance, it could be useful for: \n",
    "- the general public: e.g. holiday makers assessing hotels or someone who wants to assess a potential new flat\n",
    "- real estate agents researching attractive features of some property to publish in adverts\n",
    "- office managers assessing potential office locations or researching amenities, e.g. to provide some suggestion to employees\n",
    "- architects or city planners assessing the surrounding area of a site to inform decisions regarding potential uses\n",
    "- corporates assessing possible locations for\n",
    "\n",
    "Overall, depending on the area of application, the requirements regarding outputs for such a tool/dashboard might differ, as are the relative importance of features considered. Such could, for instance, be a representative/central location, rental prices, public transport connectivity, and the location's surrounding area with all amenities that it has to offer. \n",
    "\n",
    "In the most basic version, the dashboard will showcase an objective assessment of the latter two features. Especially considering the surrounding area, the relative importance of different categories of amenities will differ depending on user groups. Thus, aside from inputting the location (in the format (street, no., city, (country))), the user should choose a selection of amenities in order to allow for some individualization. \n",
    "\n",
    "The output will be in the form of a sorted list/table including the identified feature and its distance as the crow flies and via road to the location. \n",
    "\n",
    "If time permits, measures will be created that give some insight into the performance of a location regarding the other features. Also, reference locations could be generated to provide some measure of relative performance.\n",
    "\n",
    "\n",
    "\n"
   ]
  },
  {
   "cell_type": "markdown",
   "id": "58c65eeb",
   "metadata": {},
   "source": [
    "## Project Management:"
   ]
  },
  {
   "cell_type": "markdown",
   "id": "bf36044b",
   "metadata": {},
   "source": [
    "### TP 0 - Structure\n",
    "- Goals: \n",
    "    - create necessary directory structure to facilitate streamlined execution of the program\n",
    "    - split tasks into various task points and identify points that can be worked on in parallel such as to optimise the time until completion of the basic model"
   ]
  },
  {
   "cell_type": "markdown",
   "id": "e783ef31",
   "metadata": {},
   "source": [
    "### TP 1 - Input Processing (geopy)\n",
    "- Goal: take a raw input by the user and transform it into the necessary format needed for subsequent analyses\n",
    "\n",
    "- UI: text input - street, number, city, country (transformed into lon/lat coordinates using geopy) \n",
    "    - at this stage no output shown, will be passed silently to next task \n",
    "    - store adress in nice formatted way \n"
   ]
  },
  {
   "cell_type": "markdown",
   "id": "aebd67ec",
   "metadata": {},
   "source": [
    "#### Geopy and Nominatim\n"
   ]
  },
  {
   "cell_type": "code",
   "execution_count": 33,
   "id": "c04d87a1",
   "metadata": {},
   "outputs": [],
   "source": [
    "from geopy.geocoders import Nominatim\n",
    "import requests\n",
    "geolocator = Nominatim(user_agent='automated_location_analysis')\n",
    "location1 = geolocator.geocode('Carnotstr, 4, Berlin')"
   ]
  },
  {
   "cell_type": "code",
   "execution_count": 34,
   "id": "be8335c4",
   "metadata": {},
   "outputs": [
    {
     "data": {
      "text/plain": [
       "Location(Carmeq GmbH, 4, Carnotstraße, Charlottenburg, Charlottenburg-Wilmersdorf, Berlin, 10587, Deutschland, (52.5234101, 13.3199825, 0.0))"
      ]
     },
     "execution_count": 34,
     "metadata": {},
     "output_type": "execute_result"
    }
   ],
   "source": [
    "location1"
   ]
  },
  {
   "cell_type": "code",
   "execution_count": 35,
   "id": "b6819ed2",
   "metadata": {},
   "outputs": [],
   "source": [
    "lon = location1.longitude\n",
    "lat = location1.latitude"
   ]
  },
  {
   "cell_type": "code",
   "execution_count": 36,
   "id": "9c86ca9c",
   "metadata": {},
   "outputs": [],
   "source": [
    "addressdetails = 0\n",
    "q = ''\n",
    "street = 'carnot straße, 4'\n",
    "city = 'berlin'\n",
    "\n",
    "nominatim_url = 'https://nominatim.openstreetmap.org/search'\n",
    "\n",
    "params = {'addressdetails': addressdetails,\n",
    "          'q':q,\n",
    "          'street': street,\n",
    "          'city': city,\n",
    "          'format': 'json'}\n",
    "\n",
    "response2 = requests.get(nominatim_url, params=params)\n",
    "\n",
    "data2 = response2.json()"
   ]
  },
  {
   "cell_type": "code",
   "execution_count": 37,
   "id": "3a919ad3",
   "metadata": {},
   "outputs": [
    {
     "data": {
      "text/plain": [
       "[{'place_id': 49948714,\n",
       "  'licence': 'Data © OpenStreetMap contributors, ODbL 1.0. https://osm.org/copyright',\n",
       "  'osm_type': 'node',\n",
       "  'osm_id': 4351691386,\n",
       "  'boundingbox': ['52.5233601', '52.5234601', '13.3199325', '13.3200325'],\n",
       "  'lat': '52.5234101',\n",
       "  'lon': '13.3199825',\n",
       "  'display_name': 'Carmeq GmbH, 4, Carnotstraße, Charlottenburg, Charlottenburg-Wilmersdorf, Berlin, 10587, Deutschland',\n",
       "  'class': 'office',\n",
       "  'type': 'company',\n",
       "  'importance': 0.41009999999999996},\n",
       " {'place_id': 36919776,\n",
       "  'licence': 'Data © OpenStreetMap contributors, ODbL 1.0. https://osm.org/copyright',\n",
       "  'osm_type': 'node',\n",
       "  'osm_id': 3005659208,\n",
       "  'boundingbox': ['52.5233971', '52.5234971', '13.3198611', '13.3199611'],\n",
       "  'lat': '52.5234471',\n",
       "  'lon': '13.3199111',\n",
       "  'display_name': '4, Carnotstraße, Charlottenburg, Charlottenburg-Wilmersdorf, Berlin, 10587, Deutschland',\n",
       "  'class': 'place',\n",
       "  'type': 'house',\n",
       "  'importance': 0.41009999999999996},\n",
       " {'place_id': 37076677,\n",
       "  'licence': 'Data © OpenStreetMap contributors, ODbL 1.0. https://osm.org/copyright',\n",
       "  'osm_type': 'node',\n",
       "  'osm_id': 3005662528,\n",
       "  'boundingbox': ['52.523739', '52.523839', '13.3204522', '13.3205522'],\n",
       "  'lat': '52.523789',\n",
       "  'lon': '13.3205022',\n",
       "  'display_name': '4-6, Carnotstraße, Charlottenburg, Charlottenburg-Wilmersdorf, Berlin, 10587, Deutschland',\n",
       "  'class': 'amenity',\n",
       "  'type': 'charging_station',\n",
       "  'importance': 0.4001},\n",
       " {'place_id': 175743032,\n",
       "  'licence': 'Data © OpenStreetMap contributors, ODbL 1.0. https://osm.org/copyright',\n",
       "  'osm_type': 'way',\n",
       "  'osm_id': 291203631,\n",
       "  'boundingbox': ['52.5232714', '52.5240005', '13.3195835', '13.3206665'],\n",
       "  'lat': '52.523635999999996',\n",
       "  'lon': '13.32012502708326',\n",
       "  'display_name': '4-6, Carnotstraße, Charlottenburg, Charlottenburg-Wilmersdorf, Berlin, 10587, Deutschland',\n",
       "  'class': 'building',\n",
       "  'type': 'office',\n",
       "  'importance': 0.4001}]"
      ]
     },
     "execution_count": 37,
     "metadata": {},
     "output_type": "execute_result"
    }
   ],
   "source": [
    "data2"
   ]
  },
  {
   "cell_type": "markdown",
   "id": "cbb758ba",
   "metadata": {},
   "source": [
    "### TP 2 - Overpass API (overpy)\n",
    "- Goal: query the overpass API using overpy to get a selection of different amenities within a specified radius around the location\n",
    "\n",
    "- Subtasks:\n",
    "    - figure out how to use the long/lat output from TP 1 to specify an **area to be queried**\n",
    "    - collect different **types of amenities** from the overpass language guide/documentation (node types)\n",
    "    - construct query\n",
    "        - output json\n",
    "        - parse names of amenities into list with lat/lon coordinates\n",
    "\n",
    "    \n",
    "- UI: suggestion - tick boxes to select amenities\n",
    "    - output in background: df with the name, category, address, lat/lon\n",
    "    - should check computing time for different settings, likely only a handful feasible, especially in really central locations\n",
    "    - especially for the routing, limited capacity; unless install on local machine\n",
    "    \n"
   ]
  },
  {
   "cell_type": "markdown",
   "id": "2616b650",
   "metadata": {},
   "source": [
    "#### Overpass request\n",
    "\n",
    "Structure:\n",
    "```python \n",
    "[out:json][timeout:25];\n",
    "(\n",
    "  node[\"amenity\"=\"post_box\"]({{bbox}});\n",
    "  way[\"amenity\"=\"post_box\"]({{bbox}});\n",
    "  relation[\"amenity\"=\"post_box\"]({{bbox}});\n",
    ");\n",
    "out body;\n",
    ">;\n",
    "out skel qt;\n",
    "```\n",
    "\n",
    "To define the query: \n",
    "- need to collect the nodes, ways, relations we want to collect\n",
    "- define the bbox \n",
    "- out statement (e.g. out center to get single coordinate per object, likely preferable)"
   ]
  },
  {
   "cell_type": "code",
   "execution_count": 39,
   "id": "7f505e20",
   "metadata": {},
   "outputs": [],
   "source": [
    "overpass_url = 'https://z.overpass-api.de/api/interpreter'\n",
    "\n",
    "overpass_query = \"\"\"\n",
    "[out:json];\n",
    "area[\"ISO3166-1\"=\"DE\"][admin_level=2];\n",
    "(node[\"amenity\"=\"biergarten\"](area);\n",
    " way[\"amenity\"=\"biergarten\"](area);\n",
    " rel[\"amenity\"=\"biergarten\"](area);\n",
    ");\n",
    "out center;\n",
    "\"\"\"\n",
    "response = requests.get(overpass_url, \n",
    "                        params={'data': overpass_query})\n",
    "\n",
    "data = response.json()"
   ]
  },
  {
   "cell_type": "code",
   "execution_count": 40,
   "id": "3e66d1eb",
   "metadata": {},
   "outputs": [
    {
     "ename": "AttributeError",
     "evalue": "'Result' object has no attribute 'json'",
     "output_type": "error",
     "traceback": [
      "\u001b[0;31m---------------------------------------------------------------------------\u001b[0m",
      "\u001b[0;31mAttributeError\u001b[0m                            Traceback (most recent call last)",
      "Cell \u001b[0;32mIn [40], line 14\u001b[0m\n\u001b[1;32m      4\u001b[0m query \u001b[38;5;241m=\u001b[39m \u001b[38;5;124m\"\"\"\u001b[39m\n\u001b[1;32m      5\u001b[0m \u001b[38;5;124m[out:json];\u001b[39m\n\u001b[1;32m      6\u001b[0m \u001b[38;5;124marea[\u001b[39m\u001b[38;5;124m\"\u001b[39m\u001b[38;5;124mISO3166-1\u001b[39m\u001b[38;5;124m\"\u001b[39m\u001b[38;5;124m=\u001b[39m\u001b[38;5;124m\"\u001b[39m\u001b[38;5;124mDE\u001b[39m\u001b[38;5;124m\"\u001b[39m\u001b[38;5;124m][admin_level=2];\u001b[39m\n\u001b[0;32m   (...)\u001b[0m\n\u001b[1;32m     10\u001b[0m \u001b[38;5;124m);\u001b[39m\n\u001b[1;32m     11\u001b[0m \u001b[38;5;124mout center;\u001b[39m\u001b[38;5;124m\"\"\"\u001b[39m\n\u001b[1;32m     13\u001b[0m result \u001b[38;5;241m=\u001b[39m api\u001b[38;5;241m.\u001b[39mquery(query)\n\u001b[0;32m---> 14\u001b[0m data \u001b[38;5;241m=\u001b[39m \u001b[43mresult\u001b[49m\u001b[38;5;241;43m.\u001b[39;49m\u001b[43mjson\u001b[49m()\n",
      "\u001b[0;31mAttributeError\u001b[0m: 'Result' object has no attribute 'json'"
     ]
    }
   ],
   "source": [
    "import overpy\n",
    "api = overpy.Overpass()\n",
    "\n",
    "query = \"\"\"\n",
    "[out:json];\n",
    "area[\"ISO3166-1\"=\"DE\"][admin_level=2];\n",
    "(node[\"amenity\"=\"biergarten\"](area);\n",
    " way[\"amenity\"=\"biergarten\"](area);\n",
    " rel[\"amenity\"=\"biergarten\"](area);\n",
    ");\n",
    "out center;\"\"\"\n",
    "\n",
    "result = api.query(query)\n",
    "data = result.json()"
   ]
  },
  {
   "cell_type": "code",
   "execution_count": null,
   "id": "593ec3c3",
   "metadata": {},
   "outputs": [],
   "source": [
    "data"
   ]
  },
  {
   "cell_type": "markdown",
   "id": "b9ae9336",
   "metadata": {},
   "source": [
    "### TP 3 - Get distance\n",
    "- Goal: use the lon/lat obtained in TP 1 and \n",
    "    1. compute the distance as the crow flies to the location of interest using geopy\n",
    "    2. compute the distance via road using a to be selected API (e.g. openrouteservice)\n",
    "    \n",
    "- UI: output list/table/df; \n",
    "    - first location outputted in nice format\n",
    "    - list/table/df with ammenities sorted by category (possibly split in multiple dfs)\n",
    "        - columns: name, (category), address, distance as the crow flies, distance by road, approx time using modes of transport (simple interact with average speed factors for walking, bike, e-scooter)"
   ]
  },
  {
   "cell_type": "markdown",
   "id": "2fc82391",
   "metadata": {},
   "source": [
    "#### Pyroutelib"
   ]
  },
  {
   "cell_type": "code",
   "execution_count": null,
   "id": "8b65ddfb",
   "metadata": {},
   "outputs": [],
   "source": [
    "import openrouteservice\n",
    "from openrouteservice import convert\n",
    "\n",
    "coords = ((8.34234,48.23424),(8.34423,48.26424))\n",
    "\n",
    "client = openrouteservice.Client(key='5b3ce3597851110001cf62482818c293528942238de6f690d9ec3b11') # Specify your personal API key\n",
    "\n",
    "# decode_polyline needs the geometry only\n",
    "geometry = client.directions(coords, profile='cycling-regular')['routes'][0]['geometry']\n",
    "\n",
    "decoded = convert.decode_polyline(geometry)\n",
    "\n",
    "print(decoded)"
   ]
  },
  {
   "cell_type": "markdown",
   "id": "d6921aef",
   "metadata": {},
   "source": [
    "#### Openrouteservice"
   ]
  },
  {
   "cell_type": "code",
   "execution_count": 21,
   "id": "52832203",
   "metadata": {},
   "outputs": [
    {
     "name": "stdout",
     "output_type": "stream",
     "text": [
      "CPU times: user 27 ms, sys: 4.26 ms, total: 31.3 ms\n",
      "Wall time: 187 ms\n"
     ]
    }
   ],
   "source": [
    "%%time\n",
    "import requests\n",
    "mode = 'foot-walking'\n",
    "base_url = f'https://api.openrouteservice.org/v2/directions/{mode}'\n",
    "body = {\"coordinates\":[[8.681495,49.41461],[8.686507,49.41943],[8.687872,49.420318]]}\n",
    "\n",
    "headers = {\n",
    "    'Accept': 'application/json, application/geo+json, application/gpx+xml, img/png; charset=utf-8',\n",
    "    'Authorization': '5b3ce3597851110001cf62482818c293528942238de6f690d9ec3b11',\n",
    "    'Content-Type': 'application/json; charset=utf-8'\n",
    "}\n",
    "\n",
    "result = requests.post(base_url, json=body,headers=headers)"
   ]
  },
  {
   "cell_type": "code",
   "execution_count": null,
   "id": "262940c0",
   "metadata": {},
   "outputs": [],
   "source": [
    "result.json()"
   ]
  },
  {
   "cell_type": "markdown",
   "id": "9a1904fe",
   "metadata": {},
   "source": [
    "### TP 4 - (Optional) Multi-Criteria Decision Analysis\n",
    "1. generate reference locations or loop over some list of scraped office locations in berlin and generate reference score or distribution (alternatively also create raster and compute for all boxes some score)\n",
    "2. centrality of the location: generate random location within bounding box and get distance to inputted location"
   ]
  },
  {
   "cell_type": "markdown",
   "id": "8e494d98",
   "metadata": {},
   "source": [
    "## Front End "
   ]
  },
  {
   "cell_type": "code",
   "execution_count": null,
   "id": "3b1148ec",
   "metadata": {},
   "outputs": [],
   "source": []
  },
  {
   "cell_type": "markdown",
   "id": "b97806e2",
   "metadata": {},
   "source": [
    "# References\n",
    "\n",
    "- [Immobilienscout24](https://www.immobilienscout24.de/gewerbe/ratgeber/standortanalyse/standortkriterien-buero.html)"
   ]
  },
  {
   "cell_type": "code",
   "execution_count": null,
   "id": "db92b42f",
   "metadata": {},
   "outputs": [],
   "source": []
  },
  {
   "cell_type": "code",
   "execution_count": null,
   "id": "d4c2a014",
   "metadata": {},
   "outputs": [],
   "source": []
  },
  {
   "cell_type": "code",
   "execution_count": null,
   "id": "57ccab51",
   "metadata": {},
   "outputs": [],
   "source": []
  },
  {
   "cell_type": "code",
   "execution_count": null,
   "id": "43e99885",
   "metadata": {},
   "outputs": [],
   "source": []
  },
  {
   "cell_type": "code",
   "execution_count": null,
   "id": "9d2d31ad",
   "metadata": {},
   "outputs": [],
   "source": []
  }
 ],
 "metadata": {
  "kernelspec": {
   "display_name": "Python 3.10.6 64-bit ('shims': pyenv)",
   "language": "python",
   "name": "python3"
  },
  "language_info": {
   "codemirror_mode": {
    "name": "ipython",
    "version": 3
   },
   "file_extension": ".py",
   "mimetype": "text/x-python",
   "name": "python",
   "nbconvert_exporter": "python",
   "pygments_lexer": "ipython3",
   "version": "3.10.6"
  },
  "toc": {
   "base_numbering": 1,
   "nav_menu": {},
   "number_sections": true,
   "sideBar": true,
   "skip_h1_title": false,
   "title_cell": "Table of Contents",
   "title_sidebar": "Contents",
   "toc_cell": false,
   "toc_position": {},
   "toc_section_display": true,
   "toc_window_display": false
  },
  "vscode": {
   "interpreter": {
    "hash": "7772a608c8754449d74b736817a8cb53a5c5394d5176914ea43690aba236df45"
   }
  }
 },
 "nbformat": 4,
 "nbformat_minor": 5
}
