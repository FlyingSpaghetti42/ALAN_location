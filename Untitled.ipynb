{
 "cells": [
  {
   "cell_type": "code",
   "execution_count": 103,
   "id": "b27150d7",
   "metadata": {},
   "outputs": [],
   "source": [
    "import pandas as pd\n",
    "import numpy as np\n",
    "import pydeck as pdk\n",
    "import streamlit as st\n",
    "import folium\n",
    "import streamlit_folium as st_folium\n",
    "from data.data_engineering import get_location, get_complete_data, column_selection, subcolumn_selection\n",
    "import io\n",
    "import requests\n",
    "import geopy"
   ]
  },
  {
   "cell_type": "code",
   "execution_count": 104,
   "id": "8166f960",
   "metadata": {},
   "outputs": [],
   "source": [
    "st.set_page_config(page_title='ALAN',layout=\"wide\", page_icon = ':cry:')\n"
   ]
  },
  {
   "cell_type": "code",
   "execution_count": 105,
   "id": "39dff301",
   "metadata": {},
   "outputs": [],
   "source": [
    "address = st.text_input('Adress')\n",
    "preferences = st.selectbox(' Preferences', options = (\"shop\", \"office\", \"highway\", \"public_transport\", \"tourism\", \"amenity\", \"sport\"))\n",
    "location=get_location(address)"
   ]
  },
  {
   "cell_type": "code",
   "execution_count": 106,
   "id": "cde2a3e4",
   "metadata": {},
   "outputs": [
    {
     "name": "stderr",
     "output_type": "stream",
     "text": [
      "/Users/lorenz/code/FlyingSpaghetti42/ALAN_location/data/data_engineering.py:41: SettingWithCopyWarning: \n",
      "A value is trying to be set on a copy of a slice from a DataFrame\n",
      "\n",
      "See the caveats in the documentation: https://pandas.pydata.org/pandas-docs/stable/user_guide/indexing.html#returning-a-view-versus-a-copy\n",
      "  df_column_selected.drop(columns=list_columns, inplace=True)\n"
     ]
    }
   ],
   "source": [
    "df_cleaned=column_selection(location, preferences)\n"
   ]
  },
  {
   "cell_type": "code",
   "execution_count": 110,
   "id": "e1bd33c5",
   "metadata": {},
   "outputs": [
    {
     "ename": "IndexError",
     "evalue": "index 0 is out of bounds for axis 0 with size 0",
     "output_type": "error",
     "traceback": [
      "\u001b[0;31m---------------------------------------------------------------------------\u001b[0m",
      "\u001b[0;31mIndexError\u001b[0m                                Traceback (most recent call last)",
      "Cell \u001b[0;32mIn [110], line 4\u001b[0m\n\u001b[1;32m      1\u001b[0m names_ \u001b[39m=\u001b[39m (st\u001b[39m.\u001b[39mmultiselect(\u001b[39m'\u001b[39m\u001b[39mPreferences\u001b[39m\u001b[39m'\u001b[39m, options \u001b[39m=\u001b[39m (df_cleaned[preferences]\u001b[39m.\u001b[39munique())))\n\u001b[0;32m----> 4\u001b[0m column_selec \u001b[39m=\u001b[39m [df_cleaned[preferences]\u001b[39m.\u001b[39;49munique()[\u001b[39m0\u001b[39;49m], df_cleaned[\u001b[39m'\u001b[39m\u001b[39mshop\u001b[39m\u001b[39m'\u001b[39m]\u001b[39m.\u001b[39munique()[\u001b[39m1\u001b[39m]]\n",
      "\u001b[0;31mIndexError\u001b[0m: index 0 is out of bounds for axis 0 with size 0"
     ]
    }
   ],
   "source": [
    "names_ = (st.multiselect('Preferences', options = (df_cleaned[preferences].unique())))\n",
    "\n",
    "\n",
    "subcolumn_name = [df_cleaned[preferences].unique()[0]]\n",
    "st.write(subcolumn_name)\n",
    "\n",
    "\n"
   ]
  },
  {
   "cell_type": "code",
   "execution_count": null,
   "id": "4c6231da",
   "metadata": {},
   "outputs": [],
   "source": []
  },
  {
   "cell_type": "code",
   "execution_count": null,
   "id": "8b8ef12d",
   "metadata": {},
   "outputs": [],
   "source": []
  }
 ],
 "metadata": {
  "kernelspec": {
   "display_name": "Python 3.10.6 64-bit ('ALAN')",
   "language": "python",
   "name": "python3"
  },
  "language_info": {
   "codemirror_mode": {
    "name": "ipython",
    "version": 3
   },
   "file_extension": ".py",
   "mimetype": "text/x-python",
   "name": "python",
   "nbconvert_exporter": "python",
   "pygments_lexer": "ipython3",
   "version": "3.10.6"
  },
  "toc": {
   "base_numbering": 1,
   "nav_menu": {},
   "number_sections": true,
   "sideBar": true,
   "skip_h1_title": false,
   "title_cell": "Table of Contents",
   "title_sidebar": "Contents",
   "toc_cell": false,
   "toc_position": {},
   "toc_section_display": true,
   "toc_window_display": false
  },
  "vscode": {
   "interpreter": {
    "hash": "9416dac77f27120f399b3572ed5c4424d32527a2de99560e77e90d4654723eb2"
   }
  }
 },
 "nbformat": 4,
 "nbformat_minor": 5
}
