{
 "cells": [
  {
   "cell_type": "markdown",
   "id": "22e959e9",
   "metadata": {},
   "source": [
    "# **Automated Location Analysis Tool**\n"
   ]
  },
  {
   "cell_type": "code",
   "execution_count": 1,
   "id": "0d912496",
   "metadata": {},
   "outputs": [],
   "source": [
    "import requests\n",
    "import pandas as pd\n",
    "import numpy as np"
   ]
  },
  {
   "cell_type": "markdown",
   "id": "1c1c9849",
   "metadata": {},
   "source": [
    "## Overview \n",
    "The goal of the project is to create a dashboard, which outputs an automated location analysis for a specified address. The tool should be designed such that it is useful for a variety of actors, for whom a structured assessment of a location presents beneficial (productivity improvement). For instance, it could be useful for: \n",
    "- the general public: e.g. holiday makers assessing hotels or someone who wants to assess a potential new flat\n",
    "- real estate agents researching attractive features of some property to publish in adverts\n",
    "- office managers assessing potential office locations or researching amenities, e.g. to provide some suggestion to employees\n",
    "- architects or city planners assessing the surrounding area of a site to inform decisions regarding potential uses\n",
    "- corporates assessing possible locations for\n",
    "\n",
    "Overall, depending on the area of application, the requirements regarding outputs for such a tool/dashboard might differ, as are the relative importance of features considered. Such could, for instance, be a representative/central location, rental prices, public transport connectivity, and the location's surrounding area with all amenities that it has to offer. \n",
    "\n",
    "In the most basic version, the dashboard will showcase an objective assessment of the latter two features. Especially considering the surrounding area, the relative importance of different categories of amenities will differ depending on user groups. Thus, aside from inputting the location (in the format (street, no., city, (country))), the user should choose a selection of amenities in order to allow for some individualization. \n",
    "\n",
    "The output will be in the form of a sorted list/table including the identified feature and its distance as the crow flies and via road to the location. \n",
    "\n",
    "If time permits, measures will be created that give some insight into the performance of a location regarding the other features. Also, reference locations could be generated to provide some measure of relative performance.\n",
    "\n",
    "\n",
    "\n"
   ]
  },
  {
   "cell_type": "markdown",
   "id": "575faf32",
   "metadata": {},
   "source": [
    "## Project Management:"
   ]
  },
  {
   "cell_type": "markdown",
   "id": "3c029d23",
   "metadata": {},
   "source": [
    "### TP 0 - Structure\n",
    "- Goals: \n",
    "    - create necessary directory structure to facilitate streamlined execution of the program\n",
    "    - split tasks into various task points and identify points that can be worked on in parallel such as to optimise the time until completion of the basic model"
   ]
  },
  {
   "cell_type": "markdown",
   "id": "cb8a3b8e",
   "metadata": {},
   "source": [
    "### TP 1 - Input Processing (geopy)\n",
    "- Goal: take a raw input by the user and transform it into the necessary format needed for subsequent analyses\n",
    "\n",
    "- UI: text input - street, number, city, country (transformed into lon/lat coordinates using geopy) \n",
    "    - at this stage no output shown, will be passed silently to next task \n",
    "    - store adress in nice formatted way \n",
    "\n"
   ]
  },
  {
   "cell_type": "markdown",
   "id": "aebd67ec",
   "metadata": {},
   "source": [
    "#### Geopy and Nominatim\n"
   ]
  },
  {
   "cell_type": "code",
   "execution_count": 2,
   "id": "c04d87a1",
   "metadata": {},
   "outputs": [
    {
     "data": {
      "text/plain": [
       "geopy.location.Location"
      ]
     },
     "execution_count": 2,
     "metadata": {},
     "output_type": "execute_result"
    }
   ],
   "source": [
    "from geopy.geocoders import Nominatim\n",
    "geolocator = Nominatim(user_agent='automated_location_analysis')\n",
    "location1 = geolocator.geocode('Rudi Dutschke str, 26, berlin')\n",
    "\n",
    "type(location1)"
   ]
  },
  {
   "cell_type": "code",
   "execution_count": 3,
   "id": "bc0a058b",
   "metadata": {},
   "outputs": [
    {
     "data": {
      "text/plain": [
       "13.3913836"
      ]
     },
     "execution_count": 3,
     "metadata": {},
     "output_type": "execute_result"
    }
   ],
   "source": [
    "location1.longitude"
   ]
  },
  {
   "cell_type": "code",
   "execution_count": 4,
   "id": "9c86ca9c",
   "metadata": {},
   "outputs": [
    {
     "data": {
      "text/plain": [
       "52.506883"
      ]
     },
     "execution_count": 4,
     "metadata": {},
     "output_type": "execute_result"
    }
   ],
   "source": [
    "location1.latitude"
   ]
  },
  {
   "cell_type": "code",
   "execution_count": null,
   "id": "4524b65c",
   "metadata": {},
   "outputs": [],
   "source": []
  },
  {
   "cell_type": "markdown",
   "id": "56f2f660",
   "metadata": {},
   "source": [
    "### TP 2 - Overpass API (overpy)\n",
    "- Goal: query the overpass API using overpy to get a selection of different amenities within a specified radius around the location\n",
    "\n",
    "- Subtasks:\n",
    "    - figure out how to use the long/lat output from TP 1 to specify an **area to be queried**\n",
    "    - collect different **types of amenities** from the overpass language guide/documentation (node types)\n",
    "    - construct query\n",
    "        - output json\n",
    "        - parse names of amenities into list with lat/lon coordinates\n",
    "\n",
    "    \n",
    "- UI: suggestion - tick boxes to select amenities\n",
    "    - output in background: df with the name, category, address, lat/lon\n",
    "    - should check computing time for different settings, likely only a handful feasible, especially in really central locations\n",
    "    - especially for the routing, limited capacity; unless install on local machine\n",
    "    \n"
   ]
  },
  {
   "cell_type": "markdown",
   "id": "2616b650",
   "metadata": {},
   "source": [
    "#### Overpass request\n",
    "\n",
    "Structure:\n",
    "```python \n",
    "[out:json][timeout:25];\n",
    "(\n",
    "  node[\"amenity\"=\"post_box\"]({{bbox}});\n",
    "  way[\"amenity\"=\"post_box\"]({{bbox}});\n",
    "  relation[\"amenity\"=\"post_box\"]({{bbox}});\n",
    ");\n",
    "out body;\n",
    ">;\n",
    "out skel qt;\n",
    "```\n",
    "\n",
    "To define the query: \n",
    "- need to collect the nodes, ways, relations we want to collect\n",
    "- define the bbox \n",
    "- out statement (e.g. out center to get single coordinate per object, likely preferable)"
   ]
  },
  {
   "cell_type": "code",
   "execution_count": 5,
   "id": "7f505e20",
   "metadata": {},
   "outputs": [
    {
     "name": "stdout",
     "output_type": "stream",
     "text": [
      "CPU times: user 39.9 ms, sys: 9.52 ms, total: 49.4 ms\n",
      "Wall time: 1min 2s\n"
     ]
    }
   ],
   "source": [
    "%%time\n",
    "overpass_url = 'https://z.overpass-api.de/api/interpreter'\n",
    "\n",
    "overpass_query = \"\"\"\n",
    "[out:json];\n",
    "area[\"ISO3166-1\"=\"DE\"][admin_level=2];\n",
    "(node[\"amenity\"=\"biergarten\"](area);\n",
    " way[\"amenity\"=\"biergarten\"](area);\n",
    " rel[\"amenity\"=\"biergarten\"](area);\n",
    ");\n",
    "out center;\n",
    "\"\"\"\n",
    "response = requests.get(overpass_url, \n",
    "                        params={'data': overpass_query})\n",
    "\n",
    "data = response.json()"
   ]
  },
  {
   "cell_type": "code",
   "execution_count": null,
   "id": "3e66d1eb",
   "metadata": {},
   "outputs": [],
   "source": [
    "%%time\n",
    "import overpy\n",
    "api = overpy.Overpass()\n",
    "\n",
    "query = \"\"\"\n",
    "[out:json];\n",
    "area[\"ISO3166-1\"=\"DE\"][admin_level=2];\n",
    "(node[\"amenity\"=\"biergarten\"](area);\n",
    " way[\"amenity\"=\"biergarten\"](area);\n",
    " rel[\"amenity\"=\"biergarten\"](area);\n",
    ");\n",
    "out center;\"\"\"\n",
    "\n",
    "result = api.query(query)"
   ]
  },
  {
   "cell_type": "code",
   "execution_count": null,
   "id": "955cf8dc",
   "metadata": {},
   "outputs": [],
   "source": [
    "result.get_nodes()"
   ]
  },
  {
   "cell_type": "markdown",
   "id": "6eeb46a7",
   "metadata": {},
   "source": [
    "### TP 3 - Get distance\n",
    "- Goal: use the lon/lat obtained in TP 1 and \n",
    "    1. compute the distance as the crow flies to the location of interest using geopy\n",
    "    2. compute the distance via road using a to be selected API (e.g. openrouteservice)\n",
    "    \n",
    "- UI: output list/table/df; \n",
    "    - first location outputted in nice format\n",
    "    - list/table/df with ammenities sorted by category (possibly split in multiple dfs)\n",
    "        - columns: name, (category), address, distance as the crow flies, distance by road, approx time using modes of transport (simple interact with average speed factors for walking, bike, e-scooter)"
   ]
  },
  {
   "cell_type": "code",
   "execution_count": null,
   "id": "8b65ddfb",
   "metadata": {},
   "outputs": [],
   "source": [
    "%%time\n",
    "import openrouteservice\n",
    "from openrouteservice import convert\n",
    "\n",
    "coords = ((8.34234,48.23424),(8.34423,48.26424))\n",
    "\n",
    "client = openrouteservice.Client(key='5b3ce3597851110001cf62482818c293528942238de6f690d9ec3b11') # Specify your personal API key\n",
    "\n",
    "# decode_polyline needs the geometry only\n",
    "geometry = client.directions(coords, profile='cycling-regular')['routes'][0]['geometry']\n",
    "\n",
    "decoded = convert.decode_polyline(geometry)\n",
    "\n"
   ]
  },
  {
   "cell_type": "code",
   "execution_count": null,
   "id": "ed09db58",
   "metadata": {},
   "outputs": [],
   "source": [
    "import requests\n",
    "mode = 'foot-walking'\n",
    "url = f'https://api.openrouteservice.org/v2/directions/{mode}'\n",
    "#headers = {\n",
    "#    'Accept': 'application/json, application/geo+json, application/gpx+xml, img/png; charset=utf-8',\n",
    "#}\n",
    "params = {\n",
    "    'api_key': '5b3ce3597851110001cf62482818c293528942238de6f690d9ec3b11',\n",
    "    'start': '13.3913836,52.506883',\n",
    "    'end': '13.3889505, 52.5151154', \n",
    "}\n",
    "call = requests.get(url, params=params)#, headers=headers)"
   ]
  },
  {
   "cell_type": "code",
   "execution_count": null,
   "id": "15d2c428",
   "metadata": {},
   "outputs": [],
   "source": [
    "call"
   ]
  },
  {
   "cell_type": "markdown",
   "id": "b0a80f35",
   "metadata": {},
   "source": [
    "#### Openrouteservice"
   ]
  },
  {
   "cell_type": "code",
   "execution_count": null,
   "id": "52832203",
   "metadata": {},
   "outputs": [],
   "source": [
    "%%time\n",
    "import requests\n",
    "mode = 'foot-walking'\n",
    "base_url = f'https://api.openrouteservice.org/v2/directions/{mode}'\n",
    "body = {\"coordinates\":[[8.681495,49.41461],[8.686507,49.41943],[8.687872,49.420318]]}\n",
    "\n",
    "headers = {\n",
    "    'Accept': 'application/json, application/geo+json, application/gpx+xml, img/png; charset=utf-8',\n",
    "    'Authorization': '5b3ce3597851110001cf62482818c293528942238de6f690d9ec3b11',\n",
    "    'Content-Type': 'application/json; charset=utf-8'\n",
    "}\n",
    "\n",
    "result = requests.post(base_url, json=body,headers=headers)"
   ]
  },
  {
   "cell_type": "code",
   "execution_count": null,
   "id": "bacd9430",
   "metadata": {},
   "outputs": [],
   "source": [
    "result.json()"
   ]
  },
  {
   "cell_type": "code",
   "execution_count": null,
   "id": "5d918cd0",
   "metadata": {},
   "outputs": [],
   "source": [
    "%%time\n",
    "\n",
    "'''\n",
    "OLD (alternative with post request)\n",
    "'''\n",
    "import requests\n",
    "mode = 'foot-walking'\n",
    "base_url = f'https://api.openrouteservice.org/v2/directions/{mode}'\n",
    "body = {\"coordinates\":[[8.681495,49.41461],[8.687872,49.420318]]}\n",
    "headers = {\n",
    "    'Accept': 'application/json, application/geo+json, application/gpx+xml, img/png; charset=utf-8',\n",
    "    'Authorization': '5b3ce3597851110001cf62482818c293528942238de6f690d9ec3b11',\n",
    "    'Content-Type': 'application/json; charset=utf-8'\n",
    "}\n",
    "\n",
    "result = requests.post(base_url, json=body,headers=headers)\n",
    "result.json()"
   ]
  },
  {
   "cell_type": "code",
   "execution_count": null,
   "id": "c3aa7b3e",
   "metadata": {},
   "outputs": [],
   "source": [
    "import requests\n",
    "mode = 'foot-walking'\n",
    "url = f'https://api.openrouteservice.org/v2/directions/{mode}'\n",
    "#headers = {\n",
    "#    'Accept': 'application/json, application/geo+json, application/gpx+xml, img/png; charset=utf-8',\n",
    "#}\n",
    "params = {\n",
    "    'api_key': '5b3ce3597851110001cf62482818c293528942238de6f690d9ec3b11',\n",
    "    'start': '13.3913836,52.506883',\n",
    "    'end': '13.3889505, 52.5151154', \n",
    "}\n",
    "call = requests.get(url, params=params)"
   ]
  },
  {
   "cell_type": "markdown",
   "id": "84a30a93",
   "metadata": {},
   "source": [
    "#### Routing Functions"
   ]
  },
  {
   "cell_type": "code",
   "execution_count": 2,
   "id": "f582408a",
   "metadata": {},
   "outputs": [
    {
     "name": "stdout",
     "output_type": "stream",
     "text": [
      "CPU times: user 11 µs, sys: 1e+03 ns, total: 12 µs\n",
      "Wall time: 16.9 µs\n"
     ]
    }
   ],
   "source": [
    "%%time \n",
    "import requests\n",
    "api_key = '5b3ce3597851110001cf62482818c293528942238de6f690d9ec3b11'\n",
    "mode = 'cycling-electric'\n",
    "\n",
    "def routing(mode,lat_start,lon_start,lat_end,lon_end,api_key):\n",
    "    ''' \n",
    "    The function takes mode of transport as well coordinates for\n",
    "    the start and end point of a routing request as input.\n",
    "\n",
    "    The intermediate output is a geoJSON file, which subsequently \n",
    "    '''\n",
    "    # specify mode and base-url\n",
    "    url = f'https://api.openrouteservice.org/v2/directions/{mode}'\n",
    "\n",
    "    # specify the start and end coordinates\n",
    "    ## start\n",
    "    lat_start = lat_start\n",
    "    lon_start = lon_start\n",
    "    ## end\n",
    "    lat_end = lat_end\n",
    "    lon_end = lon_end\n",
    "    \n",
    "\n",
    "    # create params list for query\n",
    "    params = {\n",
    "        'api_key': api_key,\n",
    "        'start': f'{lon_start},{lat_start}',\n",
    "        'end': f'{lon_end},{lat_end}',\n",
    "    }\n",
    "    # make request\n",
    "    result_geojson = requests.get(url,params=params)\n",
    "    return result_geojson"
   ]
  },
  {
   "cell_type": "code",
   "execution_count": 3,
   "id": "c4f6111a",
   "metadata": {},
   "outputs": [
    {
     "name": "stdout",
     "output_type": "stream",
     "text": [
      "CPU times: user 7 µs, sys: 1e+03 ns, total: 8 µs\n",
      "Wall time: 16 µs\n"
     ]
    }
   ],
   "source": [
    "%%time\n",
    "def routing_mode_transport(lat_start,lon_start,lat_end,lon_end,api_key):\n",
    "    '''\n",
    "    This function utilises the routing function to make the routing api request\n",
    "    and outputs the geojsons to be used in the distance_duration_road\n",
    "    function.\n",
    "    '''\n",
    "    modes_transport = ['foot-walking','cycling-regular','cycling-electric']\n",
    "    modes_geojsons = []\n",
    "    for mode in modes_transport:\n",
    "        result = routing(mode,lat_start,lon_start,lat_end,lon_end,api_key)\n",
    "        modes_geojsons.append(result)\n",
    "    return modes_geojsons\n",
    "    "
   ]
  },
  {
   "cell_type": "code",
   "execution_count": 4,
   "id": "8d4bf815",
   "metadata": {},
   "outputs": [
    {
     "name": "stdout",
     "output_type": "stream",
     "text": [
      "CPU times: user 10 µs, sys: 1 µs, total: 11 µs\n",
      "Wall time: 14.1 µs\n"
     ]
    }
   ],
   "source": [
    "%%time\n",
    "import requests\n",
    "def dist_dur_road(result_geojson):\n",
    "    ''' \n",
    "    The function uses the output of the routing api request \n",
    "    to extract the distance by road in km and the travel-time in \n",
    "    minutes between the location of interest and an amenity \n",
    "    utilising the mobility mode selected (walk, bike, e-bike) \n",
    "    '''\n",
    "    # return json and transform distance to km\n",
    "    # duration to minutes\n",
    "    distance = round((result_geojson.json()['features'\n",
    "                          ][0]['properties'\n",
    "                              ]['summary'\n",
    "                               ]['distance']) / 1000, 2)\n",
    "\n",
    "    duration = round((result_geojson.json()['features'\n",
    "                          ][0]['properties'\n",
    "                      \n",
    "                              ]['summary'\n",
    "                               ]['duration']) / 60, 2)\n",
    "    return distance, duration"
   ]
  },
  {
   "cell_type": "code",
   "execution_count": 5,
   "id": "efbdf28c",
   "metadata": {},
   "outputs": [
    {
     "name": "stdout",
     "output_type": "stream",
     "text": [
      "CPU times: user 7 µs, sys: 2 µs, total: 9 µs\n",
      "Wall time: 16.2 µs\n"
     ]
    }
   ],
   "source": [
    "%%time\n",
    "def dist_dur_all_modes(lat_start,lon_start,lat_end,lon_end,api_key):\n",
    "    '''\n",
    "    Puts all the other information together to output a list containing\n",
    "    the distance and duration for 3 modes of transport (walk, cycle, \n",
    "    e-cycle)\n",
    "    '''\n",
    "    geojsons = routing_mode_transport(lat_start,lon_start,lat_end,lon_end,api_key)\n",
    "    dist_dur = []\n",
    "    for geojson in geojsons:\n",
    "        dist_dur.append(dist_dur_road(geojson))\n",
    "    return dist_dur"
   ]
  },
  {
   "cell_type": "code",
   "execution_count": 28,
   "id": "fde4a2da",
   "metadata": {},
   "outputs": [
    {
     "data": {
      "text/plain": [
       "<Response [200]>"
      ]
     },
     "execution_count": 28,
     "metadata": {},
     "output_type": "execute_result"
    }
   ],
   "source": [
    "dist_dur_all_modes('foot-walking',52.506883, 13.3913836, 52.5151154, 13.3889505,'5b3ce3597851110001cf62482818c293528942238de6f690d9ec3b11')"
   ]
  },
  {
   "cell_type": "markdown",
   "id": "932f44b9",
   "metadata": {},
   "source": [
    "#### Next steps:\n",
    "- create dummy dataframe to use as input for the above to use the above functions to create a final dataframe\n",
    "- create a function that uses the dataframe as the input \n",
    "\n",
    "1. have the dataframe\n",
    "2. want to add distance and duration via different modes to the location from the location inputted\n",
    "    - possible way:\n",
    "        - create array that contains the distance and duration information for each mobility mode\n",
    "        - add as column to df"
   ]
  },
  {
   "cell_type": "code",
   "execution_count": 94,
   "id": "411d7082",
   "metadata": {},
   "outputs": [],
   "source": [
    "file_path = 'data/draft_data.csv'\n",
    "df_test = pd.read_csv(file_path)\n",
    "df_test = df_test.drop(columns=['Unnamed: 0','@id'])\n",
    "df_test = df_test.replace(np.nan, 'Not Available')\n",
    "df_test = df_test[0:12]"
   ]
  },
  {
   "cell_type": "code",
   "execution_count": 95,
   "id": "27c853f8",
   "metadata": {},
   "outputs": [
    {
     "data": {
      "text/html": [
       "<div>\n",
       "<style scoped>\n",
       "    .dataframe tbody tr th:only-of-type {\n",
       "        vertical-align: middle;\n",
       "    }\n",
       "\n",
       "    .dataframe tbody tr th {\n",
       "        vertical-align: top;\n",
       "    }\n",
       "\n",
       "    .dataframe thead th {\n",
       "        text-align: right;\n",
       "    }\n",
       "</style>\n",
       "<table border=\"1\" class=\"dataframe\">\n",
       "  <thead>\n",
       "    <tr style=\"text-align: right;\">\n",
       "      <th></th>\n",
       "      <th>amenity</th>\n",
       "      <th>name</th>\n",
       "      <th>@lat</th>\n",
       "      <th>@lon</th>\n",
       "      <th>contact:phone</th>\n",
       "      <th>contact:website</th>\n",
       "      <th>addr:city</th>\n",
       "      <th>addr:street</th>\n",
       "    </tr>\n",
       "  </thead>\n",
       "  <tbody>\n",
       "    <tr>\n",
       "      <th>0</th>\n",
       "      <td>restaurant</td>\n",
       "      <td>Bocca di Bacco</td>\n",
       "      <td>52.515115</td>\n",
       "      <td>13.388950</td>\n",
       "      <td>+49 30 206 72828</td>\n",
       "      <td>http://www.boccadibacco.de/</td>\n",
       "      <td>Berlin</td>\n",
       "      <td>Friedrichstraße</td>\n",
       "    </tr>\n",
       "    <tr>\n",
       "      <th>1</th>\n",
       "      <td>restaurant</td>\n",
       "      <td>Restaurant Borchardt</td>\n",
       "      <td>52.515003</td>\n",
       "      <td>13.390388</td>\n",
       "      <td>+49 30 81886262</td>\n",
       "      <td>Not Available</td>\n",
       "      <td>Berlin</td>\n",
       "      <td>Französische Straße</td>\n",
       "    </tr>\n",
       "    <tr>\n",
       "      <th>2</th>\n",
       "      <td>restaurant</td>\n",
       "      <td>Charlotte &amp; Fritz</td>\n",
       "      <td>52.515037</td>\n",
       "      <td>13.390772</td>\n",
       "      <td>Not Available</td>\n",
       "      <td>https://charlotteundfritz.com/</td>\n",
       "      <td>Berlin</td>\n",
       "      <td>Charlottenstraße</td>\n",
       "    </tr>\n",
       "    <tr>\n",
       "      <th>3</th>\n",
       "      <td>restaurant</td>\n",
       "      <td>Aigner</td>\n",
       "      <td>52.514689</td>\n",
       "      <td>13.390928</td>\n",
       "      <td>Not Available</td>\n",
       "      <td>Not Available</td>\n",
       "      <td>Berlin</td>\n",
       "      <td>Französische Straße</td>\n",
       "    </tr>\n",
       "    <tr>\n",
       "      <th>4</th>\n",
       "      <td>restaurant</td>\n",
       "      <td>Lutter &amp; Wegner</td>\n",
       "      <td>52.513212</td>\n",
       "      <td>13.391178</td>\n",
       "      <td>Not Available</td>\n",
       "      <td>Not Available</td>\n",
       "      <td>Berlin</td>\n",
       "      <td>Charlottenstraße</td>\n",
       "    </tr>\n",
       "    <tr>\n",
       "      <th>5</th>\n",
       "      <td>restaurant</td>\n",
       "      <td>Malatesta</td>\n",
       "      <td>52.512405</td>\n",
       "      <td>13.391307</td>\n",
       "      <td>Not Available</td>\n",
       "      <td>Not Available</td>\n",
       "      <td>Berlin</td>\n",
       "      <td>Charlottenstraße</td>\n",
       "    </tr>\n",
       "    <tr>\n",
       "      <th>6</th>\n",
       "      <td>restaurant</td>\n",
       "      <td>Fellini</td>\n",
       "      <td>52.512054</td>\n",
       "      <td>13.392276</td>\n",
       "      <td>Not Available</td>\n",
       "      <td>Not Available</td>\n",
       "      <td>Not Available</td>\n",
       "      <td>Not Available</td>\n",
       "    </tr>\n",
       "    <tr>\n",
       "      <th>7</th>\n",
       "      <td>restaurant</td>\n",
       "      <td>Shan's Bistro</td>\n",
       "      <td>52.513082</td>\n",
       "      <td>13.393553</td>\n",
       "      <td>Not Available</td>\n",
       "      <td>Not Available</td>\n",
       "      <td>Not Available</td>\n",
       "      <td>Not Available</td>\n",
       "    </tr>\n",
       "    <tr>\n",
       "      <th>8</th>\n",
       "      <td>restaurant</td>\n",
       "      <td>Maximilians</td>\n",
       "      <td>52.511344</td>\n",
       "      <td>13.389181</td>\n",
       "      <td>+49 30 20450559</td>\n",
       "      <td>https://www.maximilians-berlin.de/</td>\n",
       "      <td>Berlin</td>\n",
       "      <td>Friedrichstraße</td>\n",
       "    </tr>\n",
       "    <tr>\n",
       "      <th>9</th>\n",
       "      <td>restaurant</td>\n",
       "      <td>Izumi Sushi Bar</td>\n",
       "      <td>52.511292</td>\n",
       "      <td>13.388712</td>\n",
       "      <td>Not Available</td>\n",
       "      <td>Not Available</td>\n",
       "      <td>Berlin</td>\n",
       "      <td>Kronenstraße</td>\n",
       "    </tr>\n",
       "    <tr>\n",
       "      <th>10</th>\n",
       "      <td>restaurant</td>\n",
       "      <td>Kubrat</td>\n",
       "      <td>52.510084</td>\n",
       "      <td>13.389129</td>\n",
       "      <td>Not Available</td>\n",
       "      <td>http://www.hotel-kubrat.de/</td>\n",
       "      <td>Berlin</td>\n",
       "      <td>Leipziger Straße</td>\n",
       "    </tr>\n",
       "    <tr>\n",
       "      <th>11</th>\n",
       "      <td>restaurant</td>\n",
       "      <td>Morélos</td>\n",
       "      <td>52.504146</td>\n",
       "      <td>13.381252</td>\n",
       "      <td>Not Available</td>\n",
       "      <td>Not Available</td>\n",
       "      <td>Berlin</td>\n",
       "      <td>Askanischer Platz</td>\n",
       "    </tr>\n",
       "  </tbody>\n",
       "</table>\n",
       "</div>"
      ],
      "text/plain": [
       "       amenity                  name       @lat       @lon     contact:phone  \\\n",
       "0   restaurant        Bocca di Bacco  52.515115  13.388950  +49 30 206 72828   \n",
       "1   restaurant  Restaurant Borchardt  52.515003  13.390388   +49 30 81886262   \n",
       "2   restaurant     Charlotte & Fritz  52.515037  13.390772     Not Available   \n",
       "3   restaurant                Aigner  52.514689  13.390928     Not Available   \n",
       "4   restaurant       Lutter & Wegner  52.513212  13.391178     Not Available   \n",
       "5   restaurant             Malatesta  52.512405  13.391307     Not Available   \n",
       "6   restaurant               Fellini  52.512054  13.392276     Not Available   \n",
       "7   restaurant         Shan's Bistro  52.513082  13.393553     Not Available   \n",
       "8   restaurant           Maximilians  52.511344  13.389181   +49 30 20450559   \n",
       "9   restaurant       Izumi Sushi Bar  52.511292  13.388712     Not Available   \n",
       "10  restaurant                Kubrat  52.510084  13.389129     Not Available   \n",
       "11  restaurant               Morélos  52.504146  13.381252     Not Available   \n",
       "\n",
       "                       contact:website      addr:city          addr:street  \n",
       "0          http://www.boccadibacco.de/         Berlin      Friedrichstraße  \n",
       "1                        Not Available         Berlin  Französische Straße  \n",
       "2       https://charlotteundfritz.com/         Berlin     Charlottenstraße  \n",
       "3                        Not Available         Berlin  Französische Straße  \n",
       "4                        Not Available         Berlin     Charlottenstraße  \n",
       "5                        Not Available         Berlin     Charlottenstraße  \n",
       "6                        Not Available  Not Available        Not Available  \n",
       "7                        Not Available  Not Available        Not Available  \n",
       "8   https://www.maximilians-berlin.de/         Berlin      Friedrichstraße  \n",
       "9                        Not Available         Berlin         Kronenstraße  \n",
       "10         http://www.hotel-kubrat.de/         Berlin     Leipziger Straße  \n",
       "11                       Not Available         Berlin    Askanischer Platz  "
      ]
     },
     "execution_count": 95,
     "metadata": {},
     "output_type": "execute_result"
    }
   ],
   "source": [
    "df_test"
   ]
  },
  {
   "cell_type": "markdown",
   "id": "d4574c7a",
   "metadata": {},
   "source": [
    "##### Step 1: define the center location "
   ]
  },
  {
   "cell_type": "code",
   "execution_count": 17,
   "id": "2179b7a6",
   "metadata": {},
   "outputs": [],
   "source": [
    "from geopy.geocoders import Nominatim\n",
    "geolocator = Nominatim(user_agent='automated_location_analysis')\n",
    "location_start = geolocator.geocode('rudi dutschke str 26 , berlin')\n",
    "\n",
    "# define lat and lon start\n",
    "lat_start, lon_start = (location_start.latitude, location_start.longitude)\n",
    "location_address = location_start.address"
   ]
  },
  {
   "cell_type": "markdown",
   "id": "f71e7966",
   "metadata": {},
   "source": [
    "##### Step 2: take information from the dataframe (lat_end, lon_end)"
   ]
  },
  {
   "cell_type": "code",
   "execution_count": 18,
   "id": "99f4906f",
   "metadata": {},
   "outputs": [],
   "source": [
    "lat_end, lon_end = float(df_test.loc[0,'@lat']), float(df_test.loc[0,'@lon'])"
   ]
  },
  {
   "cell_type": "markdown",
   "id": "0fa151a9",
   "metadata": {},
   "source": [
    "##### Step 3: use the above information and functions to make get the distance and duration"
   ]
  },
  {
   "cell_type": "code",
   "execution_count": 27,
   "id": "9123fdd7",
   "metadata": {},
   "outputs": [
    {
     "ename": "KeyError",
     "evalue": "'features'",
     "output_type": "error",
     "traceback": [
      "\u001b[0;31m---------------------------------------------------------------------------\u001b[0m",
      "\u001b[0;31mKeyError\u001b[0m                                  Traceback (most recent call last)",
      "File \u001b[0;32m<timed exec>:2\u001b[0m\n",
      "File \u001b[0;32m<timed exec>:10\u001b[0m, in \u001b[0;36mdist_dur_all_modes\u001b[0;34m(lat_start, lon_start, lat_end, lon_end, api_key)\u001b[0m\n",
      "File \u001b[0;32m<timed exec>:11\u001b[0m, in \u001b[0;36mdist_dur_road\u001b[0;34m(result_geojson)\u001b[0m\n",
      "\u001b[0;31mKeyError\u001b[0m: 'features'"
     ]
    }
   ],
   "source": [
    "%%time\n",
    "api_key = '5b3ce3597851110001cf62482818c293528942238de6f690d9ec3b11'\n",
    "dist_dur_all_modes(lat_start,lon_start,lat_end,lon_end,api_key)"
   ]
  },
  {
   "cell_type": "markdown",
   "id": "8a99a62c",
   "metadata": {},
   "source": [
    "##### Step 4: split the above information\n"
   ]
  },
  {
   "cell_type": "code",
   "execution_count": 23,
   "id": "7d55b78f",
   "metadata": {},
   "outputs": [],
   "source": [
    "dist_walk = []\n",
    "dur_walk = []\n",
    "dist_cycl_reg = []\n",
    "dur_cycl_reg = []\n",
    "dist_cycl_e = []\n",
    "dur_cycl_e =[]\n",
    "request = dist_dur_all_modes(lat_start,lon_start,lat_end,lon_end,api_key)"
   ]
  },
  {
   "cell_type": "code",
   "execution_count": 24,
   "id": "1a52a167",
   "metadata": {},
   "outputs": [],
   "source": [
    "dist_walk.append(request[0][0])\n",
    "dur_walk.append(request[0][1])\n",
    "dist_cycl_reg.append(request[1][0])\n",
    "dur_cycl_reg.append(request[1][1])\n",
    "dist_cycl_e.append(request[2][0])\n",
    "dur_cycl_e.append(request[2][1])"
   ]
  },
  {
   "cell_type": "markdown",
   "id": "770393b4",
   "metadata": {},
   "source": [
    "##### Step 5: combine the above and loop over the dataframe to get the arrays"
   ]
  },
  {
   "cell_type": "code",
   "execution_count": 99,
   "id": "fb61a192",
   "metadata": {},
   "outputs": [
    {
     "name": "stdout",
     "output_type": "stream",
     "text": [
      "CPU times: user 959 ms, sys: 146 ms, total: 1.1 s\n",
      "Wall time: 10.3 s\n"
     ]
    }
   ],
   "source": [
    "%%time\n",
    "from geopy.geocoders import Nominatim\n",
    "geolocator = Nominatim(user_agent='automated_location_analysis')\n",
    "location_start = geolocator.geocode('rudi dutschke str 26 , berlin')\n",
    "\n",
    "# define lat and lon start\n",
    "lat_start, lon_start = (location_start.latitude, location_start.longitude)\n",
    "location_address = location_start.address\n",
    "\n",
    "api_key = '5b3ce3597851110001cf62482818c293528942238de6f690d9ec3b11'\n",
    "\n",
    "# create empty lists to hold the results of the calls\n",
    "dist_walk = []\n",
    "dur_walk = []\n",
    "dist_cycl_reg = []\n",
    "dur_cycl_reg = []\n",
    "dist_cycl_e = []\n",
    "dur_cycl_e =[]\n",
    "count = 0\n",
    "\n",
    "for i in range((df_test.shape[0])):\n",
    "    lat_end, lon_end = float(df_test.loc[i,'@lat']), float(df_test.loc[i,'@lon'])\n",
    "    request = dist_dur_all_modes(lat_start,lon_start,lat_end,lon_end,api_key)\n",
    "    dist_walk.append(request[0][0])\n",
    "    dur_walk.append(request[0][1])\n",
    "    dist_cycl_reg.append(request[1][0])\n",
    "    dur_cycl_reg.append(request[1][1])\n",
    "    dist_cycl_e.append(request[2][0])\n",
    "    dur_cycl_e.append(request[2][1])"
   ]
  },
  {
   "cell_type": "markdown",
   "id": "b3b3b962",
   "metadata": {},
   "source": [
    "##### Step 6: Define functions to transform data"
   ]
  },
  {
   "cell_type": "code",
   "execution_count": 96,
   "id": "40d6c32f",
   "metadata": {},
   "outputs": [],
   "source": [
    "def transform_km(float_km):\n",
    "    str_km = f\"{str(float_km)} km\"\n",
    "    return str_km\n",
    "\n",
    "def transform_min(float_min):\n",
    "    float_min_s = str(int(float(str(float_min).split('.')[1])/100*60))\n",
    "    float_min_min = str(int(str(float_min).split('.')[0]))\n",
    "    str_min = f'{float_min_min} min {float_min_s} s'\n",
    "    return str_min"
   ]
  },
  {
   "cell_type": "markdown",
   "id": "096391c0",
   "metadata": {},
   "source": [
    "##### Step 7: Add the arrays to the dataframe and transform the data"
   ]
  },
  {
   "cell_type": "code",
   "execution_count": 97,
   "id": "389521f9",
   "metadata": {},
   "outputs": [],
   "source": [
    "df_test['dist_walk'] = dist_walk\n",
    "df_test['dist_walk'] = df_test['dist_walk'].apply(lambda x: transform_km(x))\n",
    "\n",
    "df_test['dur_walk'] = dur_walk\n",
    "df_test['dur_walk'] = df_test['dur_walk'].apply(lambda x: transform_min(x))\n",
    "\n",
    "df_test['dist_cycl_reg'] = dist_cycl_reg\n",
    "df_test['dist_cycl_reg'] = df_test['dist_cycl_reg'].apply(lambda x: transform_km(x))\n",
    "\n",
    "df_test['dur_cycl_reg'] = dur_cycl_reg\n",
    "df_test['dur_cycl_reg'] = df_test['dur_cycl_reg'].apply(lambda x: transform_min(x))\n",
    "\n",
    "df_test['dist_cycl_e'] = dist_cycl_e\n",
    "df_test['dist_cycl_e'] = df_test['dist_cycl_e'].apply(lambda x: transform_km(x))\n",
    "\n",
    "df_test['dur_cycl_e'] = dur_cycl_e\n",
    "df_test['dur_cycl_e'] = df_test['dur_cycl_e'].apply(lambda x: transform_min(x))"
   ]
  },
  {
   "cell_type": "code",
   "execution_count": 98,
   "id": "15bdab1a",
   "metadata": {},
   "outputs": [
    {
     "data": {
      "text/html": [
       "<div>\n",
       "<style scoped>\n",
       "    .dataframe tbody tr th:only-of-type {\n",
       "        vertical-align: middle;\n",
       "    }\n",
       "\n",
       "    .dataframe tbody tr th {\n",
       "        vertical-align: top;\n",
       "    }\n",
       "\n",
       "    .dataframe thead th {\n",
       "        text-align: right;\n",
       "    }\n",
       "</style>\n",
       "<table border=\"1\" class=\"dataframe\">\n",
       "  <thead>\n",
       "    <tr style=\"text-align: right;\">\n",
       "      <th></th>\n",
       "      <th>amenity</th>\n",
       "      <th>name</th>\n",
       "      <th>@lat</th>\n",
       "      <th>@lon</th>\n",
       "      <th>contact:phone</th>\n",
       "      <th>contact:website</th>\n",
       "      <th>addr:city</th>\n",
       "      <th>addr:street</th>\n",
       "      <th>dist_walk</th>\n",
       "      <th>dur_walk</th>\n",
       "      <th>dist_cycl_reg</th>\n",
       "      <th>dur_cycl_reg</th>\n",
       "      <th>dist_cycl_e</th>\n",
       "      <th>dur_cycl_e</th>\n",
       "    </tr>\n",
       "  </thead>\n",
       "  <tbody>\n",
       "    <tr>\n",
       "      <th>0</th>\n",
       "      <td>restaurant</td>\n",
       "      <td>Bocca di Bacco</td>\n",
       "      <td>52.515115</td>\n",
       "      <td>13.388950</td>\n",
       "      <td>+49 30 206 72828</td>\n",
       "      <td>http://www.boccadibacco.de/</td>\n",
       "      <td>Berlin</td>\n",
       "      <td>Friedrichstraße</td>\n",
       "      <td>1.14 km</td>\n",
       "      <td>13 min 42 s</td>\n",
       "      <td>1.15 km</td>\n",
       "      <td>4 min 5 s</td>\n",
       "      <td>1.15 km</td>\n",
       "      <td>3 min 27 s</td>\n",
       "    </tr>\n",
       "    <tr>\n",
       "      <th>1</th>\n",
       "      <td>restaurant</td>\n",
       "      <td>Restaurant Borchardt</td>\n",
       "      <td>52.515003</td>\n",
       "      <td>13.390388</td>\n",
       "      <td>+49 30 81886262</td>\n",
       "      <td>Not Available</td>\n",
       "      <td>Berlin</td>\n",
       "      <td>Französische Straße</td>\n",
       "      <td>1.02 km</td>\n",
       "      <td>12 min 12 s</td>\n",
       "      <td>1.02 km</td>\n",
       "      <td>3 min 23 s</td>\n",
       "      <td>1.02 km</td>\n",
       "      <td>2 min 46 s</td>\n",
       "    </tr>\n",
       "    <tr>\n",
       "      <th>2</th>\n",
       "      <td>restaurant</td>\n",
       "      <td>Charlotte &amp; Fritz</td>\n",
       "      <td>52.515037</td>\n",
       "      <td>13.390772</td>\n",
       "      <td>Not Available</td>\n",
       "      <td>https://charlotteundfritz.com/</td>\n",
       "      <td>Berlin</td>\n",
       "      <td>Charlottenstraße</td>\n",
       "      <td>0.99 km</td>\n",
       "      <td>11 min 53 s</td>\n",
       "      <td>0.99 km</td>\n",
       "      <td>3 min 1 s</td>\n",
       "      <td>0.99 km</td>\n",
       "      <td>2 min 4 s</td>\n",
       "    </tr>\n",
       "    <tr>\n",
       "      <th>3</th>\n",
       "      <td>restaurant</td>\n",
       "      <td>Aigner</td>\n",
       "      <td>52.514689</td>\n",
       "      <td>13.390928</td>\n",
       "      <td>Not Available</td>\n",
       "      <td>Not Available</td>\n",
       "      <td>Berlin</td>\n",
       "      <td>Französische Straße</td>\n",
       "      <td>0.95 km</td>\n",
       "      <td>11 min 2 s</td>\n",
       "      <td>0.95 km</td>\n",
       "      <td>3 min 10 s</td>\n",
       "      <td>0.95 km</td>\n",
       "      <td>2 min 35 s</td>\n",
       "    </tr>\n",
       "    <tr>\n",
       "      <th>4</th>\n",
       "      <td>restaurant</td>\n",
       "      <td>Lutter &amp; Wegner</td>\n",
       "      <td>52.513212</td>\n",
       "      <td>13.391178</td>\n",
       "      <td>Not Available</td>\n",
       "      <td>Not Available</td>\n",
       "      <td>Berlin</td>\n",
       "      <td>Charlottenstraße</td>\n",
       "      <td>0.79 km</td>\n",
       "      <td>9 min 27 s</td>\n",
       "      <td>0.79 km</td>\n",
       "      <td>2 min 37 s</td>\n",
       "      <td>0.79 km</td>\n",
       "      <td>2 min 9 s</td>\n",
       "    </tr>\n",
       "    <tr>\n",
       "      <th>5</th>\n",
       "      <td>restaurant</td>\n",
       "      <td>Malatesta</td>\n",
       "      <td>52.512405</td>\n",
       "      <td>13.391307</td>\n",
       "      <td>Not Available</td>\n",
       "      <td>Not Available</td>\n",
       "      <td>Berlin</td>\n",
       "      <td>Charlottenstraße</td>\n",
       "      <td>0.69 km</td>\n",
       "      <td>8 min 20 s</td>\n",
       "      <td>0.69 km</td>\n",
       "      <td>2 min 18 s</td>\n",
       "      <td>0.69 km</td>\n",
       "      <td>1 min 5 s</td>\n",
       "    </tr>\n",
       "    <tr>\n",
       "      <th>6</th>\n",
       "      <td>restaurant</td>\n",
       "      <td>Fellini</td>\n",
       "      <td>52.512054</td>\n",
       "      <td>13.392276</td>\n",
       "      <td>Not Available</td>\n",
       "      <td>Not Available</td>\n",
       "      <td>Not Available</td>\n",
       "      <td>Not Available</td>\n",
       "      <td>0.72 km</td>\n",
       "      <td>8 min 35 s</td>\n",
       "      <td>0.72 km</td>\n",
       "      <td>2 min 24 s</td>\n",
       "      <td>0.72 km</td>\n",
       "      <td>1 min 58 s</td>\n",
       "    </tr>\n",
       "    <tr>\n",
       "      <th>7</th>\n",
       "      <td>restaurant</td>\n",
       "      <td>Shan's Bistro</td>\n",
       "      <td>52.513082</td>\n",
       "      <td>13.393553</td>\n",
       "      <td>Not Available</td>\n",
       "      <td>Not Available</td>\n",
       "      <td>Not Available</td>\n",
       "      <td>Not Available</td>\n",
       "      <td>0.88 km</td>\n",
       "      <td>10 min 31 s</td>\n",
       "      <td>0.88 km</td>\n",
       "      <td>2 min 56 s</td>\n",
       "      <td>0.88 km</td>\n",
       "      <td>2 min 2 s</td>\n",
       "    </tr>\n",
       "    <tr>\n",
       "      <th>8</th>\n",
       "      <td>restaurant</td>\n",
       "      <td>Maximilians</td>\n",
       "      <td>52.511344</td>\n",
       "      <td>13.389181</td>\n",
       "      <td>+49 30 20450559</td>\n",
       "      <td>https://www.maximilians-berlin.de/</td>\n",
       "      <td>Berlin</td>\n",
       "      <td>Friedrichstraße</td>\n",
       "      <td>0.74 km</td>\n",
       "      <td>8 min 53 s</td>\n",
       "      <td>0.75 km</td>\n",
       "      <td>2 min 29 s</td>\n",
       "      <td>0.75 km</td>\n",
       "      <td>2 min 3 s</td>\n",
       "    </tr>\n",
       "    <tr>\n",
       "      <th>9</th>\n",
       "      <td>restaurant</td>\n",
       "      <td>Izumi Sushi Bar</td>\n",
       "      <td>52.511292</td>\n",
       "      <td>13.388712</td>\n",
       "      <td>Not Available</td>\n",
       "      <td>Not Available</td>\n",
       "      <td>Berlin</td>\n",
       "      <td>Kronenstraße</td>\n",
       "      <td>0.79 km</td>\n",
       "      <td>9 min 30 s</td>\n",
       "      <td>0.8 km</td>\n",
       "      <td>2 min 43 s</td>\n",
       "      <td>0.8 km</td>\n",
       "      <td>2 min 13 s</td>\n",
       "    </tr>\n",
       "    <tr>\n",
       "      <th>10</th>\n",
       "      <td>restaurant</td>\n",
       "      <td>Kubrat</td>\n",
       "      <td>52.510084</td>\n",
       "      <td>13.389129</td>\n",
       "      <td>Not Available</td>\n",
       "      <td>http://www.hotel-kubrat.de/</td>\n",
       "      <td>Berlin</td>\n",
       "      <td>Leipziger Straße</td>\n",
       "      <td>0.49 km</td>\n",
       "      <td>5 min 49 s</td>\n",
       "      <td>0.62 km</td>\n",
       "      <td>2 min 3 s</td>\n",
       "      <td>0.62 km</td>\n",
       "      <td>1 min 5 s</td>\n",
       "    </tr>\n",
       "    <tr>\n",
       "      <th>11</th>\n",
       "      <td>restaurant</td>\n",
       "      <td>Morélos</td>\n",
       "      <td>52.504146</td>\n",
       "      <td>13.381252</td>\n",
       "      <td>Not Available</td>\n",
       "      <td>Not Available</td>\n",
       "      <td>Berlin</td>\n",
       "      <td>Askanischer Platz</td>\n",
       "      <td>0.9 km</td>\n",
       "      <td>10 min 46 s</td>\n",
       "      <td>1.1 km</td>\n",
       "      <td>3 min 43 s</td>\n",
       "      <td>1.1 km</td>\n",
       "      <td>3 min 1 s</td>\n",
       "    </tr>\n",
       "  </tbody>\n",
       "</table>\n",
       "</div>"
      ],
      "text/plain": [
       "       amenity                  name       @lat       @lon     contact:phone  \\\n",
       "0   restaurant        Bocca di Bacco  52.515115  13.388950  +49 30 206 72828   \n",
       "1   restaurant  Restaurant Borchardt  52.515003  13.390388   +49 30 81886262   \n",
       "2   restaurant     Charlotte & Fritz  52.515037  13.390772     Not Available   \n",
       "3   restaurant                Aigner  52.514689  13.390928     Not Available   \n",
       "4   restaurant       Lutter & Wegner  52.513212  13.391178     Not Available   \n",
       "5   restaurant             Malatesta  52.512405  13.391307     Not Available   \n",
       "6   restaurant               Fellini  52.512054  13.392276     Not Available   \n",
       "7   restaurant         Shan's Bistro  52.513082  13.393553     Not Available   \n",
       "8   restaurant           Maximilians  52.511344  13.389181   +49 30 20450559   \n",
       "9   restaurant       Izumi Sushi Bar  52.511292  13.388712     Not Available   \n",
       "10  restaurant                Kubrat  52.510084  13.389129     Not Available   \n",
       "11  restaurant               Morélos  52.504146  13.381252     Not Available   \n",
       "\n",
       "                       contact:website      addr:city          addr:street  \\\n",
       "0          http://www.boccadibacco.de/         Berlin      Friedrichstraße   \n",
       "1                        Not Available         Berlin  Französische Straße   \n",
       "2       https://charlotteundfritz.com/         Berlin     Charlottenstraße   \n",
       "3                        Not Available         Berlin  Französische Straße   \n",
       "4                        Not Available         Berlin     Charlottenstraße   \n",
       "5                        Not Available         Berlin     Charlottenstraße   \n",
       "6                        Not Available  Not Available        Not Available   \n",
       "7                        Not Available  Not Available        Not Available   \n",
       "8   https://www.maximilians-berlin.de/         Berlin      Friedrichstraße   \n",
       "9                        Not Available         Berlin         Kronenstraße   \n",
       "10         http://www.hotel-kubrat.de/         Berlin     Leipziger Straße   \n",
       "11                       Not Available         Berlin    Askanischer Platz   \n",
       "\n",
       "   dist_walk     dur_walk dist_cycl_reg dur_cycl_reg dist_cycl_e  dur_cycl_e  \n",
       "0    1.14 km  13 min 42 s       1.15 km    4 min 5 s     1.15 km  3 min 27 s  \n",
       "1    1.02 km  12 min 12 s       1.02 km   3 min 23 s     1.02 km  2 min 46 s  \n",
       "2    0.99 km  11 min 53 s       0.99 km    3 min 1 s     0.99 km   2 min 4 s  \n",
       "3    0.95 km   11 min 2 s       0.95 km   3 min 10 s     0.95 km  2 min 35 s  \n",
       "4    0.79 km   9 min 27 s       0.79 km   2 min 37 s     0.79 km   2 min 9 s  \n",
       "5    0.69 km   8 min 20 s       0.69 km   2 min 18 s     0.69 km   1 min 5 s  \n",
       "6    0.72 km   8 min 35 s       0.72 km   2 min 24 s     0.72 km  1 min 58 s  \n",
       "7    0.88 km  10 min 31 s       0.88 km   2 min 56 s     0.88 km   2 min 2 s  \n",
       "8    0.74 km   8 min 53 s       0.75 km   2 min 29 s     0.75 km   2 min 3 s  \n",
       "9    0.79 km   9 min 30 s        0.8 km   2 min 43 s      0.8 km  2 min 13 s  \n",
       "10   0.49 km   5 min 49 s       0.62 km    2 min 3 s     0.62 km   1 min 5 s  \n",
       "11    0.9 km  10 min 46 s        1.1 km   3 min 43 s      1.1 km   3 min 1 s  "
      ]
     },
     "execution_count": 98,
     "metadata": {},
     "output_type": "execute_result"
    }
   ],
   "source": [
    "df_test"
   ]
  },
  {
   "cell_type": "code",
   "execution_count": 92,
   "id": "c9b78ade",
   "metadata": {},
   "outputs": [
    {
     "data": {
      "text/plain": [
       "'1'"
      ]
     },
     "execution_count": 92,
     "metadata": {},
     "output_type": "execute_result"
    }
   ],
   "source": [
    "str_test = 1.03\n",
    "str(int(str(str_test).split('.')[0]))"
   ]
  },
  {
   "cell_type": "markdown",
   "id": "c1cac4bc",
   "metadata": {},
   "source": [
    "### TP 4 - (Optional) Multi-Criteria Decision Analysis\n",
    "1. generate reference locations or loop over some list of scraped office locations in berlin and generate reference score or distribution (alternatively also create raster and compute for all boxes some score)\n",
    "2. centrality of the location: generate random location within bounding box and get distance to inputted location"
   ]
  },
  {
   "cell_type": "markdown",
   "id": "b8546ab5",
   "metadata": {},
   "source": [
    "# References\n",
    "\n",
    "- [Immobilienscout24](https://www.immobilienscout24.de/gewerbe/ratgeber/standortanalyse/standortkriterien-buero.html)"
   ]
  },
  {
   "cell_type": "code",
   "execution_count": null,
   "id": "7693b2e8",
   "metadata": {},
   "outputs": [],
   "source": []
  },
  {
   "cell_type": "code",
   "execution_count": null,
   "id": "d4c2a014",
   "metadata": {},
   "outputs": [],
   "source": []
  },
  {
   "cell_type": "code",
   "execution_count": null,
   "id": "57ccab51",
   "metadata": {},
   "outputs": [],
   "source": []
  },
  {
   "cell_type": "code",
   "execution_count": null,
   "id": "2e1d6fd3",
   "metadata": {},
   "outputs": [],
   "source": []
  },
  {
   "cell_type": "code",
   "execution_count": null,
   "id": "658d3789",
   "metadata": {},
   "outputs": [],
   "source": []
  }
 ],
 "metadata": {
  "kernelspec": {
   "display_name": "Python 3.10.6 64-bit ('ALAN_location')",
   "language": "python",
   "name": "python3"
  },
  "language_info": {
   "codemirror_mode": {
    "name": "ipython",
    "version": 3
   },
   "file_extension": ".py",
   "mimetype": "text/x-python",
   "name": "python",
   "nbconvert_exporter": "python",
   "pygments_lexer": "ipython3",
   "version": "3.10.6"
  },
  "toc": {
   "base_numbering": 1,
   "nav_menu": {},
   "number_sections": true,
   "sideBar": true,
   "skip_h1_title": false,
   "title_cell": "Table of Contents",
   "title_sidebar": "Contents",
   "toc_cell": false,
   "toc_position": {},
   "toc_section_display": true,
   "toc_window_display": false
  },
  "vscode": {
   "interpreter": {
    "hash": "e762648cdf3e2bfb3530a336ec8c585c3f8852f2ba72ce77bad11085c38815b6"
   }
  }
 },
 "nbformat": 4,
 "nbformat_minor": 5
}
